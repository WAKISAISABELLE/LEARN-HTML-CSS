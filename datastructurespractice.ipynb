{
 "cells": [
  {
   "cell_type": "markdown",
   "metadata": {},
   "source": [
    "Recursion"
   ]
  },
  {
   "cell_type": "code",
   "execution_count": 1,
   "metadata": {},
   "outputs": [],
   "source": [
    "def factorial(n):\n",
    "    if n == 1 or n ==0: #base case\n",
    "        return 1\n",
    "    else:\n",
    "        return n * factorial(n-1)"
   ]
  },
  {
   "cell_type": "code",
   "execution_count": 2,
   "metadata": {},
   "outputs": [
    {
     "name": "stdout",
     "output_type": "stream",
     "text": [
      "720\n"
     ]
    }
   ],
   "source": [
    "def factorial(n):\n",
    "    if n ==1 or n ==0:\n",
    "        return 1\n",
    "    else:\n",
    "        return n * factorial(n-1)\n",
    "print(factorial(6))"
   ]
  },
  {
   "cell_type": "markdown",
   "metadata": {},
   "source": [
    "Implementing recursion iteratively"
   ]
  },
  {
   "cell_type": "code",
   "execution_count": 3,
   "metadata": {},
   "outputs": [
    {
     "name": "stdout",
     "output_type": "stream",
     "text": [
      "1\n"
     ]
    }
   ],
   "source": [
    "def factorial(n):\n",
    "    result = 1\n",
    "    for i in range(2, n + 1):\n",
    "        result *=1\n",
    "        return result \n",
    "number = 5\n",
    "print(factorial(5))\n",
    "    \n"
   ]
  },
  {
   "cell_type": "markdown",
   "metadata": {},
   "source": [
    "Linear search"
   ]
  },
  {
   "cell_type": "code",
   "execution_count": 10,
   "metadata": {},
   "outputs": [
    {
     "name": "stdout",
     "output_type": "stream",
     "text": [
      "found at index 4\n"
     ]
    }
   ],
   "source": [
    "pos = -1\n",
    "def search(list, n):\n",
    "    i = 0\n",
    "    while i< len(list):\n",
    "        if list[i] == n:\n",
    "            globals() ['pos'] = i\n",
    "            return True\n",
    "        i = i + 1\n",
    "    return False\n",
    "\n",
    "\n",
    "list = [5,8,4,6,9,2]\n",
    "n = 9\n",
    "if search(list, n):\n",
    "    print('found at index', pos)\n",
    "else:\n",
    "    print('Not found')\n",
    "   "
   ]
  },
  {
   "cell_type": "markdown",
   "metadata": {},
   "source": [
    "Binary search"
   ]
  },
  {
   "cell_type": "markdown",
   "metadata": {},
   "source": [
    "If the number your searching for is greater than the mid value, you shift: your mid value will become the new lower bound. If the number your searching for is smaller than the mid value, then you will shift the upper bound to the mid value. Therefore the mid value will become the new upper bound."
   ]
  },
  {
   "cell_type": "code",
   "execution_count": 12,
   "metadata": {},
   "outputs": [
    {
     "name": "stdout",
     "output_type": "stream",
     "text": [
      "Found at index 4\n"
     ]
    }
   ],
   "source": [
    "pos = -1\n",
    "def search(list, n):\n",
    "    l = 0\n",
    "    u = len(list) - 1 #It should be one less\n",
    "    while l <=u: #should always be less than the upper bound\n",
    "          mid = (l + u)// 2\n",
    "          if list[mid] == n:\n",
    "              globals()['pos'] = mid\n",
    "              return True\n",
    "          else:\n",
    "            if list[mid]<n :\n",
    "                  l = mid\n",
    "            else:\n",
    "                  u = mid\n",
    "                  \n",
    "\n",
    "\n",
    "list = [4,7,8,12,45,99]\n",
    "n = 45\n",
    "if search(list, n):\n",
    "     print('Found at index',pos)\n",
    "else:\n",
    "     print('Not found')\n"
   ]
  },
  {
   "cell_type": "markdown",
   "metadata": {},
   "source": [
    "Bubble sort"
   ]
  },
  {
   "cell_type": "code",
   "execution_count": null,
   "metadata": {},
   "outputs": [
    {
     "name": "stdout",
     "output_type": "stream",
     "text": [
      "[2, 3, 5, 6, 7, 8]\n"
     ]
    }
   ],
   "source": [
    "def sort(list):\n",
    "    for i in range(len(list)-1, 0, -1): #runs from the last index of the list down to 1\n",
    "        for j in range(i):\n",
    "            if list[j]> list[j+1]:\n",
    "                temporary  = list[j]#store list[j]\n",
    "                list[j] = list[j+1]#shifting\n",
    "                list[j+1] = temporary\n",
    "\n",
    "list = [5,3,8,6,7,2]\n",
    "sort(list)\n",
    "print(list)"
   ]
  },
  {
   "cell_type": "markdown",
   "metadata": {},
   "source": [
    "Selection sort"
   ]
  },
  {
   "cell_type": "code",
   "execution_count": 55,
   "metadata": {},
   "outputs": [
    {
     "name": "stdout",
     "output_type": "stream",
     "text": [
      "[1, 2, 7, 9, 11]\n"
     ]
    }
   ],
   "source": [
    "def sort(list):\n",
    "    for i in range (4):\n",
    "        minIndex = i\n",
    "        for j in range(i, 5):\n",
    "            if list[j]<list[minIndex]:\n",
    "                minIndex = j\n",
    "        temporary = list[i]\n",
    "        list[i] =list[minIndex]\n",
    "        list[minIndex]=temporary\n",
    "        \n",
    "\n",
    "list = [2,1,7,9,11]\n",
    "sort(list)\n",
    "\n",
    "print(list)\n",
    "\n"
   ]
  },
  {
   "cell_type": "markdown",
   "metadata": {},
   "source": [
    "Insertion sort"
   ]
  },
  {
   "cell_type": "code",
   "execution_count": null,
   "metadata": {},
   "outputs": [
    {
     "name": "stdout",
     "output_type": "stream",
     "text": [
      "[0, 1, 2, 5, 7]\n"
     ]
    }
   ],
   "source": [
    "def insert(arr):\n",
    "    for i in range(1, len(arr)):\n",
    "        j =i\n",
    "        while arr[j -1]>arr[j] and j>0:\n",
    "            arr[j-1], arr[j]= arr[j], arr[j-1]\n",
    "            j -=1\n",
    "            \n",
    "arr =[2,5,1,0,7]\n",
    "\n",
    "insert(arr)\n",
    "print(arr)"
   ]
  },
  {
   "cell_type": "markdown",
   "metadata": {},
   "source": [
    "Quick sort"
   ]
  },
  {
   "cell_type": "code",
   "execution_count": null,
   "metadata": {},
   "outputs": [],
   "source": []
  },
  {
   "cell_type": "markdown",
   "metadata": {},
   "source": [
    "Merge sort"
   ]
  },
  {
   "cell_type": "code",
   "execution_count": 82,
   "metadata": {},
   "outputs": [
    {
     "name": "stdout",
     "output_type": "stream",
     "text": [
      "[1, 2, 3, 6, 9]\n"
     ]
    }
   ],
   "source": [
    "def merge_sort(arr):\n",
    "    if len(arr)>1:\n",
    "        mid = len(arr)//2\n",
    "        left = arr[:mid]\n",
    "        right = arr[mid:]\n",
    "\n",
    "        merge_sort(left)\n",
    "        merge_sort(right)\n",
    "\n",
    "        i = j = k = 0\n",
    "        while i < len(left) and j < len(right):\n",
    "            if left[i] < right[j]:\n",
    "                arr[k] = left[i]\n",
    "                i +=1    \n",
    "            else:\n",
    "                arr[k] = right[j]\n",
    "                j +=1\n",
    "            k +=1\n",
    "        while i < len(left):\n",
    "            arr[k] = left[i]\n",
    "            i +=1\n",
    "            k +=1  \n",
    "        while j < len(right):\n",
    "            arr[k] = right[j]\n",
    "            j +=1\n",
    "            k +=1\n",
    "\n",
    "arr = [1,6,3,2,9]\n",
    "merge_sort(arr)\n",
    "print(arr)"
   ]
  },
  {
   "cell_type": "code",
   "execution_count": 83,
   "metadata": {},
   "outputs": [
    {
     "name": "stdout",
     "output_type": "stream",
     "text": [
      "[2, 4, 2, 1, 0, 3]\n"
     ]
    }
   ],
   "source": [
    "def merge(arr):\n",
    "    if len(arr)>1:\n",
    "        mid = len(arr)//2\n",
    "        left = arr[:mid]\n",
    "        right = arr[mid:]\n",
    "\n",
    "        merge(left)\n",
    "        merge(right)\n",
    "        i = j = k = 0\n",
    "\n",
    "        while i<len(left) and j < len(right):\n",
    "            if left[i] < right[j]:\n",
    "                arr[k] = left[i]\n",
    "                i +=1\n",
    "            else:\n",
    "                arr[k] = right[j]\n",
    "                j+=1\n",
    "        while i < len(left):\n",
    "            arr[k] = left[i]\n",
    "            i +=1\n",
    "        k +=1\n",
    "        while j<len(right):\n",
    "            arr[k] = right[j]\n",
    "            j+=1\n",
    "            k+=1\n",
    "arr =[8,4,2,1,0,3]\n",
    "merge(arr)\n",
    "print(arr)\n"
   ]
  }
 ],
 "metadata": {
  "kernelspec": {
   "display_name": "Python 3",
   "language": "python",
   "name": "python3"
  },
  "language_info": {
   "codemirror_mode": {
    "name": "ipython",
    "version": 3
   },
   "file_extension": ".py",
   "mimetype": "text/x-python",
   "name": "python",
   "nbconvert_exporter": "python",
   "pygments_lexer": "ipython3",
   "version": "3.13.0"
  }
 },
 "nbformat": 4,
 "nbformat_minor": 2
}
