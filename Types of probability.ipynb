{
 "cells": [
  {
   "cell_type": "markdown",
   "metadata": {},
   "source": [
    "ISABELLE WAKISA B30311 S24B38/019"
   ]
  },
  {
   "cell_type": "code",
   "execution_count": 1,
   "metadata": {},
   "outputs": [],
   "source": [
    "import pandas as pd"
   ]
  },
  {
   "cell_type": "code",
   "execution_count": 3,
   "metadata": {},
   "outputs": [
    {
     "data": {
      "text/html": [
       "<div>\n",
       "<style scoped>\n",
       "    .dataframe tbody tr th:only-of-type {\n",
       "        vertical-align: middle;\n",
       "    }\n",
       "\n",
       "    .dataframe tbody tr th {\n",
       "        vertical-align: top;\n",
       "    }\n",
       "\n",
       "    .dataframe thead th {\n",
       "        text-align: right;\n",
       "    }\n",
       "</style>\n",
       "<table border=\"1\" class=\"dataframe\">\n",
       "  <thead>\n",
       "    <tr style=\"text-align: right;\">\n",
       "      <th></th>\n",
       "      <th>Access_no</th>\n",
       "      <th>gender</th>\n",
       "      <th>age</th>\n",
       "      <th>course</th>\n",
       "      <th>DSC3108</th>\n",
       "      <th>DSC3114</th>\n",
       "      <th>MTH3108</th>\n",
       "      <th>SYE3104</th>\n",
       "    </tr>\n",
       "  </thead>\n",
       "  <tbody>\n",
       "    <tr>\n",
       "      <th>0</th>\n",
       "      <td>123</td>\n",
       "      <td>female</td>\n",
       "      <td>21</td>\n",
       "      <td>Computer_Science</td>\n",
       "      <td>89.0</td>\n",
       "      <td>88.0</td>\n",
       "      <td>72</td>\n",
       "      <td>65</td>\n",
       "    </tr>\n",
       "    <tr>\n",
       "      <th>1</th>\n",
       "      <td>415</td>\n",
       "      <td>male</td>\n",
       "      <td>22</td>\n",
       "      <td>Computer_Science</td>\n",
       "      <td>91.0</td>\n",
       "      <td>98.0</td>\n",
       "      <td>88</td>\n",
       "      <td>89</td>\n",
       "    </tr>\n",
       "    <tr>\n",
       "      <th>2</th>\n",
       "      <td>321</td>\n",
       "      <td>male</td>\n",
       "      <td>21</td>\n",
       "      <td>Data_Science</td>\n",
       "      <td>73.0</td>\n",
       "      <td>70.0</td>\n",
       "      <td>38</td>\n",
       "      <td>41</td>\n",
       "    </tr>\n",
       "    <tr>\n",
       "      <th>3</th>\n",
       "      <td>124</td>\n",
       "      <td>female</td>\n",
       "      <td>21</td>\n",
       "      <td>Information_Technology</td>\n",
       "      <td>30.0</td>\n",
       "      <td>40.0</td>\n",
       "      <td>60</td>\n",
       "      <td>31</td>\n",
       "    </tr>\n",
       "    <tr>\n",
       "      <th>4</th>\n",
       "      <td>314</td>\n",
       "      <td>female</td>\n",
       "      <td>22</td>\n",
       "      <td>Computer_Science</td>\n",
       "      <td>70.0</td>\n",
       "      <td>75.0</td>\n",
       "      <td>78</td>\n",
       "      <td>60</td>\n",
       "    </tr>\n",
       "    <tr>\n",
       "      <th>5</th>\n",
       "      <td>891</td>\n",
       "      <td>male</td>\n",
       "      <td>21</td>\n",
       "      <td>Information_Technology</td>\n",
       "      <td>25.0</td>\n",
       "      <td>70.0</td>\n",
       "      <td>69</td>\n",
       "      <td>19</td>\n",
       "    </tr>\n",
       "    <tr>\n",
       "      <th>6</th>\n",
       "      <td>729</td>\n",
       "      <td>female</td>\n",
       "      <td>22</td>\n",
       "      <td>Data_Science</td>\n",
       "      <td>65.0</td>\n",
       "      <td>80.0</td>\n",
       "      <td>38</td>\n",
       "      <td>43</td>\n",
       "    </tr>\n",
       "    <tr>\n",
       "      <th>7</th>\n",
       "      <td>892</td>\n",
       "      <td>female</td>\n",
       "      <td>21</td>\n",
       "      <td>Data_Science</td>\n",
       "      <td>90.0</td>\n",
       "      <td>95.0</td>\n",
       "      <td>92</td>\n",
       "      <td>93</td>\n",
       "    </tr>\n",
       "    <tr>\n",
       "      <th>8</th>\n",
       "      <td>545</td>\n",
       "      <td>male</td>\n",
       "      <td>22</td>\n",
       "      <td>NaN</td>\n",
       "      <td>54.0</td>\n",
       "      <td>69.0</td>\n",
       "      <td>78</td>\n",
       "      <td>77</td>\n",
       "    </tr>\n",
       "    <tr>\n",
       "      <th>9</th>\n",
       "      <td>718</td>\n",
       "      <td>female</td>\n",
       "      <td>21</td>\n",
       "      <td>Information_Technology</td>\n",
       "      <td>NaN</td>\n",
       "      <td>78.0</td>\n",
       "      <td>79</td>\n",
       "      <td>88</td>\n",
       "    </tr>\n",
       "    <tr>\n",
       "      <th>10</th>\n",
       "      <td>390</td>\n",
       "      <td>male</td>\n",
       "      <td>22</td>\n",
       "      <td>Computer_Science</td>\n",
       "      <td>45.0</td>\n",
       "      <td>NaN</td>\n",
       "      <td>79</td>\n",
       "      <td>85</td>\n",
       "    </tr>\n",
       "  </tbody>\n",
       "</table>\n",
       "</div>"
      ],
      "text/plain": [
       "    Access_no  gender  age                  course  DSC3108  DSC3114  MTH3108  \\\n",
       "0         123  female   21        Computer_Science     89.0     88.0       72   \n",
       "1         415    male   22        Computer_Science     91.0     98.0       88   \n",
       "2         321    male   21            Data_Science     73.0     70.0       38   \n",
       "3         124  female   21  Information_Technology     30.0     40.0       60   \n",
       "4         314  female   22        Computer_Science     70.0     75.0       78   \n",
       "5         891    male   21  Information_Technology     25.0     70.0       69   \n",
       "6         729  female   22            Data_Science     65.0     80.0       38   \n",
       "7         892  female   21            Data_Science     90.0     95.0       92   \n",
       "8         545    male   22                     NaN     54.0     69.0       78   \n",
       "9         718  female   21  Information_Technology      NaN     78.0       79   \n",
       "10        390    male   22        Computer_Science     45.0      NaN       79   \n",
       "\n",
       "    SYE3104  \n",
       "0        65  \n",
       "1        89  \n",
       "2        41  \n",
       "3        31  \n",
       "4        60  \n",
       "5        19  \n",
       "6        43  \n",
       "7        93  \n",
       "8        77  \n",
       "9        88  \n",
       "10       85  "
      ]
     },
     "execution_count": 3,
     "metadata": {},
     "output_type": "execute_result"
    }
   ],
   "source": [
    "pd.read_excel(\"Student_performance.xlsx\")"
   ]
  },
  {
   "cell_type": "code",
   "execution_count": 4,
   "metadata": {},
   "outputs": [],
   "source": [
    "data =pd.read_excel(\"Student_performance.xlsx\")"
   ]
  },
  {
   "cell_type": "code",
   "execution_count": 5,
   "metadata": {},
   "outputs": [
    {
     "data": {
      "text/plain": [
       "<bound method DataFrame.info of     Access_no  gender  age                  course  DSC3108  DSC3114  MTH3108  \\\n",
       "0         123  female   21        Computer_Science     89.0     88.0       72   \n",
       "1         415    male   22        Computer_Science     91.0     98.0       88   \n",
       "2         321    male   21            Data_Science     73.0     70.0       38   \n",
       "3         124  female   21  Information_Technology     30.0     40.0       60   \n",
       "4         314  female   22        Computer_Science     70.0     75.0       78   \n",
       "5         891    male   21  Information_Technology     25.0     70.0       69   \n",
       "6         729  female   22            Data_Science     65.0     80.0       38   \n",
       "7         892  female   21            Data_Science     90.0     95.0       92   \n",
       "8         545    male   22                     NaN     54.0     69.0       78   \n",
       "9         718  female   21  Information_Technology      NaN     78.0       79   \n",
       "10        390    male   22        Computer_Science     45.0      NaN       79   \n",
       "\n",
       "    SYE3104  \n",
       "0        65  \n",
       "1        89  \n",
       "2        41  \n",
       "3        31  \n",
       "4        60  \n",
       "5        19  \n",
       "6        43  \n",
       "7        93  \n",
       "8        77  \n",
       "9        88  \n",
       "10       85  >"
      ]
     },
     "execution_count": 5,
     "metadata": {},
     "output_type": "execute_result"
    }
   ],
   "source": [
    "data.info"
   ]
  },
  {
   "cell_type": "markdown",
   "metadata": {},
   "source": [
    "Checking for missing information"
   ]
  },
  {
   "cell_type": "code",
   "execution_count": 7,
   "metadata": {},
   "outputs": [
    {
     "data": {
      "text/plain": [
       "Access_no    0\n",
       "gender       0\n",
       "age          0\n",
       "course       1\n",
       "DSC3108      1\n",
       "DSC3114      1\n",
       "MTH3108      0\n",
       "SYE3104      0\n",
       "dtype: int64"
      ]
     },
     "execution_count": 7,
     "metadata": {},
     "output_type": "execute_result"
    }
   ],
   "source": [
    "data.isna().sum()"
   ]
  },
  {
   "cell_type": "code",
   "execution_count": 26,
   "metadata": {},
   "outputs": [
    {
     "name": "stderr",
     "output_type": "stream",
     "text": [
      "C:\\Users\\isabe\\AppData\\Local\\Temp\\ipykernel_25756\\3868509640.py:1: FutureWarning: DataFrame.fillna with 'method' is deprecated and will raise in a future version. Use obj.ffill() or obj.bfill() instead.\n",
      "  new_data =data.fillna(method ='ffill')\n"
     ]
    },
    {
     "data": {
      "text/html": [
       "<div>\n",
       "<style scoped>\n",
       "    .dataframe tbody tr th:only-of-type {\n",
       "        vertical-align: middle;\n",
       "    }\n",
       "\n",
       "    .dataframe tbody tr th {\n",
       "        vertical-align: top;\n",
       "    }\n",
       "\n",
       "    .dataframe thead th {\n",
       "        text-align: right;\n",
       "    }\n",
       "</style>\n",
       "<table border=\"1\" class=\"dataframe\">\n",
       "  <thead>\n",
       "    <tr style=\"text-align: right;\">\n",
       "      <th></th>\n",
       "      <th>Access_no</th>\n",
       "      <th>gender</th>\n",
       "      <th>age</th>\n",
       "      <th>course</th>\n",
       "      <th>DSC3108</th>\n",
       "      <th>DSC3114</th>\n",
       "      <th>MTH3108</th>\n",
       "      <th>SYE3104</th>\n",
       "    </tr>\n",
       "  </thead>\n",
       "  <tbody>\n",
       "    <tr>\n",
       "      <th>0</th>\n",
       "      <td>123</td>\n",
       "      <td>female</td>\n",
       "      <td>21</td>\n",
       "      <td>Computer_Science</td>\n",
       "      <td>89.0</td>\n",
       "      <td>88.0</td>\n",
       "      <td>72</td>\n",
       "      <td>65</td>\n",
       "    </tr>\n",
       "    <tr>\n",
       "      <th>1</th>\n",
       "      <td>415</td>\n",
       "      <td>male</td>\n",
       "      <td>22</td>\n",
       "      <td>Computer_Science</td>\n",
       "      <td>91.0</td>\n",
       "      <td>98.0</td>\n",
       "      <td>88</td>\n",
       "      <td>89</td>\n",
       "    </tr>\n",
       "    <tr>\n",
       "      <th>2</th>\n",
       "      <td>321</td>\n",
       "      <td>male</td>\n",
       "      <td>21</td>\n",
       "      <td>Data_Science</td>\n",
       "      <td>73.0</td>\n",
       "      <td>70.0</td>\n",
       "      <td>38</td>\n",
       "      <td>41</td>\n",
       "    </tr>\n",
       "    <tr>\n",
       "      <th>3</th>\n",
       "      <td>124</td>\n",
       "      <td>female</td>\n",
       "      <td>21</td>\n",
       "      <td>Information_Technology</td>\n",
       "      <td>30.0</td>\n",
       "      <td>40.0</td>\n",
       "      <td>60</td>\n",
       "      <td>31</td>\n",
       "    </tr>\n",
       "    <tr>\n",
       "      <th>4</th>\n",
       "      <td>314</td>\n",
       "      <td>female</td>\n",
       "      <td>22</td>\n",
       "      <td>Computer_Science</td>\n",
       "      <td>70.0</td>\n",
       "      <td>75.0</td>\n",
       "      <td>78</td>\n",
       "      <td>60</td>\n",
       "    </tr>\n",
       "    <tr>\n",
       "      <th>5</th>\n",
       "      <td>891</td>\n",
       "      <td>male</td>\n",
       "      <td>21</td>\n",
       "      <td>Information_Technology</td>\n",
       "      <td>25.0</td>\n",
       "      <td>70.0</td>\n",
       "      <td>69</td>\n",
       "      <td>19</td>\n",
       "    </tr>\n",
       "    <tr>\n",
       "      <th>6</th>\n",
       "      <td>729</td>\n",
       "      <td>female</td>\n",
       "      <td>22</td>\n",
       "      <td>Data_Science</td>\n",
       "      <td>65.0</td>\n",
       "      <td>80.0</td>\n",
       "      <td>38</td>\n",
       "      <td>43</td>\n",
       "    </tr>\n",
       "    <tr>\n",
       "      <th>7</th>\n",
       "      <td>892</td>\n",
       "      <td>female</td>\n",
       "      <td>21</td>\n",
       "      <td>Data_Science</td>\n",
       "      <td>90.0</td>\n",
       "      <td>95.0</td>\n",
       "      <td>92</td>\n",
       "      <td>93</td>\n",
       "    </tr>\n",
       "    <tr>\n",
       "      <th>8</th>\n",
       "      <td>545</td>\n",
       "      <td>male</td>\n",
       "      <td>22</td>\n",
       "      <td>Data_Science</td>\n",
       "      <td>54.0</td>\n",
       "      <td>69.0</td>\n",
       "      <td>78</td>\n",
       "      <td>77</td>\n",
       "    </tr>\n",
       "    <tr>\n",
       "      <th>9</th>\n",
       "      <td>718</td>\n",
       "      <td>female</td>\n",
       "      <td>21</td>\n",
       "      <td>Information_Technology</td>\n",
       "      <td>54.0</td>\n",
       "      <td>78.0</td>\n",
       "      <td>79</td>\n",
       "      <td>88</td>\n",
       "    </tr>\n",
       "    <tr>\n",
       "      <th>10</th>\n",
       "      <td>390</td>\n",
       "      <td>male</td>\n",
       "      <td>22</td>\n",
       "      <td>Computer_Science</td>\n",
       "      <td>45.0</td>\n",
       "      <td>78.0</td>\n",
       "      <td>79</td>\n",
       "      <td>85</td>\n",
       "    </tr>\n",
       "  </tbody>\n",
       "</table>\n",
       "</div>"
      ],
      "text/plain": [
       "    Access_no  gender  age                  course  DSC3108  DSC3114  MTH3108  \\\n",
       "0         123  female   21        Computer_Science     89.0     88.0       72   \n",
       "1         415    male   22        Computer_Science     91.0     98.0       88   \n",
       "2         321    male   21            Data_Science     73.0     70.0       38   \n",
       "3         124  female   21  Information_Technology     30.0     40.0       60   \n",
       "4         314  female   22        Computer_Science     70.0     75.0       78   \n",
       "5         891    male   21  Information_Technology     25.0     70.0       69   \n",
       "6         729  female   22            Data_Science     65.0     80.0       38   \n",
       "7         892  female   21            Data_Science     90.0     95.0       92   \n",
       "8         545    male   22            Data_Science     54.0     69.0       78   \n",
       "9         718  female   21  Information_Technology     54.0     78.0       79   \n",
       "10        390    male   22        Computer_Science     45.0     78.0       79   \n",
       "\n",
       "    SYE3104  \n",
       "0        65  \n",
       "1        89  \n",
       "2        41  \n",
       "3        31  \n",
       "4        60  \n",
       "5        19  \n",
       "6        43  \n",
       "7        93  \n",
       "8        77  \n",
       "9        88  \n",
       "10       85  "
      ]
     },
     "execution_count": 26,
     "metadata": {},
     "output_type": "execute_result"
    }
   ],
   "source": [
    "new_data =data.fillna(method ='ffill')\n",
    "new_data"
   ]
  },
  {
   "cell_type": "code",
   "execution_count": 27,
   "metadata": {},
   "outputs": [
    {
     "data": {
      "text/plain": [
       "11"
      ]
     },
     "execution_count": 27,
     "metadata": {},
     "output_type": "execute_result"
    }
   ],
   "source": [
    "total_students = len(new_data)  #First we found the total number of students\n",
    "total_students"
   ]
  },
  {
   "cell_type": "markdown",
   "metadata": {},
   "source": [
    "PROBABILITY OF STUDENTS STUDYING IT"
   ]
  },
  {
   "cell_type": "code",
   "execution_count": 28,
   "metadata": {},
   "outputs": [
    {
     "data": {
      "text/plain": [
       "np.int64(3)"
      ]
     },
     "execution_count": 28,
     "metadata": {},
     "output_type": "execute_result"
    }
   ],
   "source": [
    "information_technology = new_data[new_data['course'] == \"Information_Technology\"]['course'].count()\n",
    "information_technology"
   ]
  },
  {
   "cell_type": "code",
   "execution_count": 29,
   "metadata": {},
   "outputs": [
    {
     "data": {
      "text/plain": [
       "np.float64(0.2727272727272727)"
      ]
     },
     "execution_count": 29,
     "metadata": {},
     "output_type": "execute_result"
    }
   ],
   "source": [
    "probability = information_technology/total_students\n",
    "probability"
   ]
  },
  {
   "cell_type": "markdown",
   "metadata": {},
   "source": [
    "FEMALE STUDENTS STUDYING COMPUTER SCIENCE"
   ]
  },
  {
   "cell_type": "code",
   "execution_count": 30,
   "metadata": {},
   "outputs": [
    {
     "data": {
      "text/plain": [
       "np.int64(2)"
      ]
     },
     "execution_count": 30,
     "metadata": {},
     "output_type": "execute_result"
    }
   ],
   "source": [
    "female_students = new_data[(new_data['gender'] == \"female\") & (new_data['course'] == 'Computer_Science')]['course'].count()\n",
    "female_students"
   ]
  },
  {
   "cell_type": "code",
   "execution_count": 31,
   "metadata": {},
   "outputs": [
    {
     "data": {
      "text/plain": [
       "np.float64(0.18181818181818182)"
      ]
     },
     "execution_count": 31,
     "metadata": {},
     "output_type": "execute_result"
    }
   ],
   "source": [
    "probability = female_students/total_students\n",
    "probability"
   ]
  },
  {
   "cell_type": "markdown",
   "metadata": {},
   "source": [
    "MALE STUDENTS STUDYING DATA SCIENCE "
   ]
  },
  {
   "cell_type": "code",
   "execution_count": 32,
   "metadata": {},
   "outputs": [
    {
     "data": {
      "text/plain": [
       "np.int64(2)"
      ]
     },
     "execution_count": 32,
     "metadata": {},
     "output_type": "execute_result"
    }
   ],
   "source": [
    "male_students = new_data[(new_data['gender'] == \"male\") & (new_data['course'] == 'Data_Science')]['course'].count()\n",
    "male_students"
   ]
  },
  {
   "cell_type": "code",
   "execution_count": 33,
   "metadata": {},
   "outputs": [
    {
     "data": {
      "text/plain": [
       "np.float64(0.18181818181818182)"
      ]
     },
     "execution_count": 33,
     "metadata": {},
     "output_type": "execute_result"
    }
   ],
   "source": [
    "probability = male_students/total_students\n",
    "probability"
   ]
  }
 ],
 "metadata": {
  "kernelspec": {
   "display_name": "Python 3",
   "language": "python",
   "name": "python3"
  },
  "language_info": {
   "codemirror_mode": {
    "name": "ipython",
    "version": 3
   },
   "file_extension": ".py",
   "mimetype": "text/x-python",
   "name": "python",
   "nbconvert_exporter": "python",
   "pygments_lexer": "ipython3",
   "version": "3.13.0"
  }
 },
 "nbformat": 4,
 "nbformat_minor": 2
}
