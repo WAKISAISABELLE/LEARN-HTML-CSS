{
 "cells": [
  {
   "cell_type": "markdown",
   "metadata": {},
   "source": [
    "Isabelle Wakisa B30311 S24B38/019"
   ]
  },
  {
   "cell_type": "markdown",
   "metadata": {},
   "source": [
    "SEARCHING ALGORITHMS"
   ]
  },
  {
   "cell_type": "markdown",
   "metadata": {},
   "source": [
    "LINEAR SEARCH"
   ]
  },
  {
   "cell_type": "markdown",
   "metadata": {},
   "source": [
    "It is a simple algorithm that checks each element in a lits until the desired element is found."
   ]
  },
  {
   "cell_type": "markdown",
   "metadata": {},
   "source": [
    "The algorithm will start at the beginning of the list and exaines each element comparing it with the target element. This process continues till the target is found if no the algorithm will return -1 to indicate the target is absent."
   ]
  },
  {
   "cell_type": "markdown",
   "metadata": {},
   "source": [
    "Step-by-step pseudocode representation.\n",
    "\n"
   ]
  },
  {
   "cell_type": "markdown",
   "metadata": {},
   "source": [
    "function LinearSearch(List, target):\n",
    "  - for index from 0 to length of list -1:\n",
    "    - if list[index] == target:\n",
    "         - return index\n",
    "- return -1"
   ]
  },
  {
   "cell_type": "markdown",
   "metadata": {},
   "source": [
    "Explanantion:"
   ]
  },
  {
   "cell_type": "markdown",
   "metadata": {},
   "source": [
    "The function takes two parameters: the list to search in and the target value to find.Then the loop will iterate through each element of the list to. It will check if the current element matches the target.\n",
    "If a match if found, the index of the matching element is returned, if not the function returns -1 indicating that the target is not in the list.\n"
   ]
  },
  {
   "cell_type": "markdown",
   "metadata": {},
   "source": [
    "- For example if given [1, 2 ,5, 7] and we want to find 5. \n",
    "Call LinearSearch([1,2,5,7], 8) it will return 2 because 5 is at index 2"
   ]
  },
  {
   "cell_type": "markdown",
   "metadata": {},
   "source": [
    "Write and explain a Python implementation of the algorithm."
   ]
  },
  {
   "cell_type": "code",
   "execution_count": null,
   "metadata": {},
   "outputs": [
    {
     "name": "stdout",
     "output_type": "stream",
     "text": [
      "Element 4 is found\n"
     ]
    }
   ],
   "source": [
    "def Linear_Search(list, target):\n",
    "    for index in range(len(list)): #iterate through each element in the list\n",
    "        if list[index] == target:\n",
    "            return index #if the target element is found, return the index\n",
    "    return -1  #indicates the element isnt in the list\n",
    "\n",
    "list = [2,3,4,5,6]\n",
    "target = 4\n",
    "result = Linear_Search(list, target) #perform linear seach and store the results\n",
    "#check if the target is found.\n",
    "if result != -1:\n",
    "    print(f'Element {target} is found')\n",
    "else:\n",
    "    print(f'Element {target} is not fund')"
   ]
  },
  {
   "cell_type": "markdown",
   "metadata": {},
   "source": [
    "Explanation:"
   ]
  },
  {
   "cell_type": "markdown",
   "metadata": {},
   "source": [
    "A function named Linear_Search takes two arguments: the list to search through and the element we are searching for.THe function uses a for loop to iterate through each element in the list by index. Inside the loop, it will check if the current element matches the target. "
   ]
  },
  {
   "cell_type": "markdown",
   "metadata": {},
   "source": [
    "If the target element is found, the function returns its index. "
   ]
  },
  {
   "cell_type": "markdown",
   "metadata": {},
   "source": [
    "Time Complexity Analysis:"
   ]
  },
  {
   "cell_type": "markdown",
   "metadata": {},
   "source": [
    "- Best-case: This occurs when the target element is found at the very beginning of the list. Thus making the search efficient. It denoted as 0(1) which means it takes constant time regardless of the size of the list\n"
   ]
  },
  {
   "cell_type": "markdown",
   "metadata": {},
   "source": [
    "- Worst-case: This occurs when the target element is either not present in the list or is the last element in the list. It is denoted 0(n) where n is the number of the elements in the list."
   ]
  },
  {
   "cell_type": "markdown",
   "metadata": {},
   "source": [
    "- Average-case: The target element is expected to be somehwere in the middle of the list, It is denoted by 0(n), where n is the input size"
   ]
  },
  {
   "cell_type": "markdown",
   "metadata": {},
   "source": [
    "For example: \n"
   ]
  },
  {
   "cell_type": "markdown",
   "metadata": {},
   "source": [
    "Consider the following list:  [2, 4, 6, 7, 9, 10, 12,] \n",
    "1. Best case: when searching for 2, only one comparison is needed.\n",
    "2. Average case: when searching for 7, 3.5 comparisons are needed.\n",
    "3. WOrst-case: when searching for 12, n comparisons are needed."
   ]
  },
  {
   "cell_type": "markdown",
   "metadata": {},
   "source": [
    "Advantages:"
   ]
  },
  {
   "cell_type": "markdown",
   "metadata": {},
   "source": [
    "- Linear search is easy to understand and implement.\n",
    "- It works well with unsorted data. It therefore doesnt need any sorting before implemenation. \n",
    "- It requires a small amount of memory to store the index of the current element being searched.\n",
    "- It is easy to troubleshoot incase of any issues."
   ]
  },
  {
   "cell_type": "markdown",
   "metadata": {},
   "source": [
    "Disadvantages:\n"
   ]
  },
  {
   "cell_type": "markdown",
   "metadata": {},
   "source": [
    "- As the size of the dataset grows, the time taken linear search also increases.\n",
    "- It is only suitable for datasets that arent too large.\n",
    "- It doesnt have a mechanism to terminate early once the target element is found.\n"
   ]
  },
  {
   "cell_type": "markdown",
   "metadata": {},
   "source": [
    "When to Use It"
   ]
  },
  {
   "cell_type": "markdown",
   "metadata": {},
   "source": [
    "1. Small Datasets"
   ]
  },
  {
   "cell_type": "markdown",
   "metadata": {},
   "source": [
    "When a list is small, it is easier to implement the linaer search"
   ]
  },
  {
   "cell_type": "markdown",
   "metadata": {},
   "source": [
    "2. Unsorted Data"
   ]
  },
  {
   "cell_type": "markdown",
   "metadata": {},
   "source": [
    "When the data is unsorted, linear search is the simplest way to find an element."
   ]
  },
  {
   "cell_type": "markdown",
   "metadata": {},
   "source": [
    "3. If searches are infrequent or a one-time operation the simplicity of implementing a linear search is more beneficial that complex algorithms"
   ]
  },
  {
   "cell_type": "markdown",
   "metadata": {},
   "source": [
    "4. Data In Linked lists"
   ]
  },
  {
   "cell_type": "markdown",
   "metadata": {},
   "source": [
    "Elements in linked lists are accessed sequqnetially, so a linear search fits naturally"
   ]
  },
  {
   "cell_type": "markdown",
   "metadata": {},
   "source": [
    "5. Real-Time Data"
   ]
  },
  {
   "cell_type": "markdown",
   "metadata": {},
   "source": [
    "In situations, where data is coming in real-time and must be processed immediately without sorting, linear search can suffice."
   ]
  },
  {
   "cell_type": "markdown",
   "metadata": {},
   "source": [
    "6. Low space"
   ]
  },
  {
   "cell_type": "markdown",
   "metadata": {},
   "source": [
    "It doesnt require memory appart from the input list making it suitable for environments with memory constraints"
   ]
  },
  {
   "cell_type": "markdown",
   "metadata": {},
   "source": [
    "When Not to Use it"
   ]
  },
  {
   "cell_type": "markdown",
   "metadata": {},
   "source": [
    "1. Large Datasets:\n",
    "- For large lists, linear search becomes inefficient due to its 0(n) time complexity."
   ]
  },
  {
   "cell_type": "markdown",
   "metadata": {},
   "source": [
    "2. Sorted Data:\n",
    "- Linear search does not take advantage of the sorted order and is thuss efficient in such cases."
   ]
  },
  {
   "cell_type": "markdown",
   "metadata": {},
   "source": [
    "3. When multiple search operations are needed:\n",
    "- If you need to perform multiple search operations on the same datatset, linear search isnt advisable."
   ]
  },
  {
   "cell_type": "markdown",
   "metadata": {},
   "source": [
    "BINARY SEARCH"
   ]
  },
  {
   "cell_type": "markdown",
   "metadata": {},
   "source": [
    "It is an algorithm that works on sorted lists. It repeatedly divides the search interval in half."
   ]
  },
  {
   "cell_type": "markdown",
   "metadata": {},
   "source": [
    "The binary search begins by setting a point at the start of the list and on at the end. Then the midpoint is calculated. The element at the midpoint is compared with the target, if the midpoint matches the target then the search is successful and the index of the midpoint is returned."
   ]
  },
  {
   "cell_type": "markdown",
   "metadata": {},
   "source": [
    "If the midpoint is less than the target, the algorith will focus on the right half of the list. Vice versa"
   ]
  },
  {
   "cell_type": "markdown",
   "metadata": {},
   "source": [
    "Step-by-step pseudocode representation"
   ]
  },
  {
   "cell_type": "markdown",
   "metadata": {},
   "source": [
    "function binary_search(list, target):\n",
    "- left = 0\n",
    "- right = len(list) - 1\n",
    "- while life <= right:\n",
    "    - mid = floor(left + right )/2)\n",
    "    - if list[mid] ==target:\n",
    "      - return mid \n",
    "    - else if list[mid] < target:\n",
    "        - left = mid + 1\n",
    "    - else:\n",
    "        - right = mid - 1\n",
    "- return -1"
   ]
  },
  {
   "cell_type": "markdown",
   "metadata": {},
   "source": [
    "Explanation"
   ]
  },
  {
   "cell_type": "markdown",
   "metadata": {},
   "source": [
    "A function binary_search is defined taking two arguments: list and target. Pointers are then initialized, setting left to 0 to indicate the start of the list and right t0 len(list) - 1, representing the end of the list."
   ]
  },
  {
   "cell_type": "markdown",
   "metadata": {},
   "source": [
    "A while loop is used to continue as long as left is less than or equal to right. The midpoint is then calculated. "
   ]
  },
  {
   "cell_type": "markdown",
   "metadata": {},
   "source": [
    "Thereafter the middle element is checked, if the element at mid is equal to the target the index will be returned. If the element at mid is less than the target update left to mid + 1 to narrow the search to the right half of the list."
   ]
  },
  {
   "cell_type": "markdown",
   "metadata": {},
   "source": [
    "Python implementation:"
   ]
  },
  {
   "cell_type": "code",
   "execution_count": null,
   "metadata": {},
   "outputs": [
    {
     "name": "stdout",
     "output_type": "stream",
     "text": [
      "Element 30 found \n"
     ]
    }
   ],
   "source": [
    "def binary_search(list, target):\n",
    "    left =0\n",
    "    right =len(list)-1\n",
    "    while left <= right:\n",
    "        mid = (left + right)//2 #calculate the middle index\n",
    "        if list[mid] == target: #check if the target is present at the middle\n",
    "            return mid \n",
    "        elif list[mid]< target:#if the target is greater ignore the left \n",
    "            left = mid + 1\n",
    "        else:\n",
    "            right = mid - 1 #if target is smaller, ignore the right.\n",
    "    return -1\n",
    "numbers = [10,20,30,40,50]\n",
    "target = 30\n",
    "result = binary_search(numbers, target)\n",
    "if result != -1:\n",
    "    print(f'Element {target} found ')\n",
    "else:\n",
    "    print('Not found')"
   ]
  },
  {
   "cell_type": "markdown",
   "metadata": {},
   "source": [
    "Explanation"
   ]
  },
  {
   "cell_type": "markdown",
   "metadata": {},
   "source": [
    "- A function binary_search was defined taking two arguments: list and target."
   ]
  },
  {
   "cell_type": "markdown",
   "metadata": {},
   "source": [
    "- The function initializes two pointers, left and right representing the start and end"
   ]
  },
  {
   "cell_type": "markdown",
   "metadata": {},
   "source": [
    "-  The function uses the while loop to narrow down the search."
   ]
  },
  {
   "cell_type": "markdown",
   "metadata": {},
   "source": [
    "- Inside the loop we calculate the middle index (mid) of the current interval."
   ]
  },
  {
   "cell_type": "markdown",
   "metadata": {},
   "source": [
    "- We compare the middle element with the target element. If the middle element is the target we return its index. If the middle element is less than the target, we adjust the left pointer to narrow the search t the right half. If the middle element is larger than the target,  we asjust the search to the left half."
   ]
  },
  {
   "cell_type": "markdown",
   "metadata": {},
   "source": [
    "- If the loop is completed without finding the target, the function returns -1."
   ]
  },
  {
   "cell_type": "markdown",
   "metadata": {},
   "source": [
    "Time complexity analysis:"
   ]
  },
  {
   "cell_type": "markdown",
   "metadata": {},
   "source": [
    "- Best-case: The search is completed in a single step making it efficient. It is denoted by 0(1), meaning it takes constant time irrespective of size."
   ]
  },
  {
   "cell_type": "markdown",
   "metadata": {},
   "source": [
    "- Worst-case: This occurs when the target element is not present in the list or is at the extreme end. It is denoted by 0(log n)"
   ]
  },
  {
   "cell_type": "markdown",
   "metadata": {},
   "source": [
    "- Average-case: In this case, the target element is expected to be somewhere in the middle of the list. It is denoted by 0(log n)"
   ]
  },
  {
   "cell_type": "markdown",
   "metadata": {},
   "source": [
    "Advantages:"
   ]
  },
  {
   "cell_type": "markdown",
   "metadata": {},
   "source": [
    "- It is faster than linear search especiaaly on large arrays.\n",
    "- It is more efficient than other seraching algorithms.\n",
    "- It is well suited for searching large datasets."
   ]
  },
  {
   "cell_type": "markdown",
   "metadata": {},
   "source": [
    "Disadvantages:"
   ]
  },
  {
   "cell_type": "markdown",
   "metadata": {},
   "source": [
    "- The list or array should be sorted.\n",
    "- It requires the elements to be comparable ,eaning they should be ordered.\n"
   ]
  },
  {
   "cell_type": "markdown",
   "metadata": {},
   "source": [
    "When to Use"
   ]
  },
  {
   "cell_type": "markdown",
   "metadata": {},
   "source": [
    "1. Sorted data:\n",
    "It requires for the data to be sorted in ascending or desecnding order.\n",
    "2. Large datasets:\n",
    "For larger datasets, it is much faster than the linear search due to the logarithmic time complexity.\n",
    "3. Frequent searches:\n",
    "It is suitable for performing multiple serach operations on the same dataset.\n"
   ]
  },
  {
   "cell_type": "markdown",
   "metadata": {},
   "source": [
    "When Not to Use"
   ]
  },
  {
   "cell_type": "markdown",
   "metadata": {},
   "source": [
    "1. Unsorted data\n",
    "2. Small datasets\n",
    "3. Frequent updates: If a datatset is being modified frequently maintaining the sorted order is costly.\n",
    "4. Duplicate elements\n",
    "5. Real-time constraints: If the applicatyion requires real-time performance the time taken to sort may not meet real-time requirements."
   ]
  },
  {
   "cell_type": "markdown",
   "metadata": {},
   "source": [
    "SORTING ALGORITHMS"
   ]
  },
  {
   "cell_type": "markdown",
   "metadata": {},
   "source": [
    "BUBBLE SORT"
   ]
  },
  {
   "cell_type": "markdown",
   "metadata": {},
   "source": [
    "Bubble sort is an algorithm that works by repeatedly swapping the adjacent elements when in wrong order."
   ]
  },
  {
   "cell_type": "markdown",
   "metadata": {},
   "source": [
    "Step-by-step pseudocode"
   ]
  },
  {
   "cell_type": "markdown",
   "metadata": {},
   "source": [
    "procedure bubble_sort(array)\n",
    "-  n = len(array)\n",
    "-  for i = 0 to n -1 do\n",
    "     - swapped = false \n",
    "     - for j =  to n -i - 2 do\n",
    "          - if array[j] > array[j + 1]then\n",
    "               - swap(array[j], array[j +1])\n",
    "               - swapped = true \n",
    "     - end for \n",
    "     - if not swapped then \n",
    "          -  break \n",
    "    - end if \n",
    " - end for \n",
    " \n",
    "end procedure\n"
   ]
  },
  {
   "cell_type": "markdown",
   "metadata": {},
   "source": [
    "Explanation"
   ]
  },
  {
   "cell_type": "markdown",
   "metadata": {},
   "source": [
    "- Define a procedure bubble_sort that takes an array as an argument. \n",
    "- Set n to the length of the arrray.\n",
    "- The outer loop will iterate through each element in the list.\n",
    "- Initialize a variable swapped to false at the beginning.\n",
    "- The inner loop runs from 0 to n - i-2 comparing the adjsascent elements in the array.\n",
    "- If the current element (array[j]) is greater than the enxt element(array[j +1]), swap them and set swapped to true.\n",
    "- After completing the inner loop, check if the swapped is still false, If no swaps were made break the outer loop as it is sorted."
   ]
  },
  {
   "cell_type": "markdown",
   "metadata": {},
   "source": [
    "Pyhton implementation"
   ]
  },
  {
   "cell_type": "code",
   "execution_count": null,
   "metadata": {},
   "outputs": [
    {
     "name": "stdout",
     "output_type": "stream",
     "text": [
      "Sorted list: [12, 17, 34, 56]\n"
     ]
    }
   ],
   "source": [
    "def bubble_sort(array):\n",
    "    n = len(array)\n",
    "    for i in range(n): #traverse through all elements.\n",
    "        swapped = False #track if any swapping happens in the pass.\n",
    "        for j in range (0, n - i -1):\n",
    "            if array[j] > array[j + 1]: #compare each pair of adjacent elemnents.\n",
    "                array[j], array[j + 1] = array[j + 1], array[j] #swap if the element found is greater.\n",
    "                swapped = True\n",
    "                if not swapped:\n",
    "                    break #if no elements were swapped the array was already sorted\n",
    "    return array \n",
    "\n",
    "numbers = [12, 34, 56, 17]\n",
    "sorted_numbers = bubble_sort(numbers)\n",
    "print('Sorted list:',sorted_numbers )\n"
   ]
  },
  {
   "cell_type": "markdown",
   "metadata": {},
   "source": [
    "Explanation"
   ]
  },
  {
   "cell_type": "markdown",
   "metadata": {},
   "source": [
    "- We define a function named bubble_sort that takes a array as an argument.\n",
    "- Determine the length of the list n. \n",
    "- The outer loop runs from 0 to n-1 iterating over each element of the list. \n",
    "- Before starting each pass, initialise a variable swapped to false, this will be used to check if any swaps were made during the pass. \n",
    "- The inner loop runs from 0 to n-i-1, comparing adjascent elements in the list. If the current element is greater than the next, swap them and set swapped to true."
   ]
  },
  {
   "cell_type": "markdown",
   "metadata": {},
   "source": [
    "Time complexity analysis"
   ]
  },
  {
   "cell_type": "markdown",
   "metadata": {},
   "source": [
    "- Best-case: This occurs when the list is already sorted in ascending order. So the algorithm only needs to make one swap to confirm that no swaps are necessary. It is denoted by 0(n)"
   ]
  },
  {
   "cell_type": "markdown",
   "metadata": {},
   "source": [
    "- Worst-case: This occurs when elements are arranged in decreasing order. It is denoted as O(n^2) "
   ]
  },
  {
   "cell_type": "markdown",
   "metadata": {},
   "source": [
    "- Average case: This occurs when the listof the elements are randomly distributed. It will require performing comparisons and swaps. It is denoted as 0(n^2)."
   ]
  },
  {
   "cell_type": "markdown",
   "metadata": {},
   "source": [
    "Advantages"
   ]
  },
  {
   "cell_type": "markdown",
   "metadata": {},
   "source": [
    "- It is easy to understand and implement.\n",
    "- It does not require additional memory space.\n"
   ]
  },
  {
   "cell_type": "markdown",
   "metadata": {},
   "source": [
    "Disadvantages"
   ]
  },
  {
   "cell_type": "markdown",
   "metadata": {},
   "source": [
    "- It has a time complexity which makes it slow for large datasets.\n",
    "- It is limited in real-world applications"
   ]
  },
  {
   "cell_type": "markdown",
   "metadata": {},
   "source": [
    "When to Use"
   ]
  },
  {
   "cell_type": "markdown",
   "metadata": {},
   "source": [
    "1. Small datasets: when the list is short, its simplicity is beneficial.\n",
    "2. nearly sorted data: If the list is almost sorted with only a few elements out of place, then it is efficient.\n"
   ]
  },
  {
   "cell_type": "markdown",
   "metadata": {},
   "source": [
    "When Not to Use"
   ]
  },
  {
   "cell_type": "markdown",
   "metadata": {},
   "source": [
    "1. Large datasets: It is higly efficient due to its time complexity.\n",
    "2. In application where performance is critical, bubble sort is inefficient.\n"
   ]
  },
  {
   "cell_type": "markdown",
   "metadata": {},
   "source": [
    "INSERTION SORT"
   ]
  },
  {
   "cell_type": "markdown",
   "metadata": {},
   "source": [
    "It is a simple algorithm that works by inserting each element of an unsorted list into its correct position in a sorted portion of the list."
   ]
  },
  {
   "cell_type": "markdown",
   "metadata": {},
   "source": [
    "- We start with the second element of the array as the first element in the array we assume to be soerted.\n",
    "- Compare the second element with the firstr element and check if the second element is smaller then swap them.\n",
    "- Move to the third element and compare with the first two elements and put it in its correct postion.\n",
    "- Repeat until the array is sorted."
   ]
  },
  {
   "cell_type": "markdown",
   "metadata": {},
   "source": [
    "Step-by-step pseudocode"
   ]
  },
  {
   "cell_type": "markdown",
   "metadata": {},
   "source": [
    "procedure insertion_sort(array)\n",
    "   - for i = 1 to len(array) - 1 do\n",
    "     - key = array[i]\n",
    "     - j = i - 1\n",
    "     - while j >=0 and arrayp[j]> do\n",
    "       - array[j + 1] = array[j]\n",
    "       - j = j-1\n",
    "     - end while \n",
    "     - array[j + 1] =key \n",
    "-  end for \n",
    "end procedure"
   ]
  },
  {
   "cell_type": "markdown",
   "metadata": {},
   "source": [
    "Explanation"
   ]
  },
  {
   "cell_type": "markdown",
   "metadata": {},
   "source": [
    "Start from the second element to the last element. The first element is considered already sorted. Then set key, this is the current element to be inserted into the sorted part of the array. Inititalise j. Using the while loop to check if the array[j] is greater than key."
   ]
  },
  {
   "cell_type": "markdown",
   "metadata": {},
   "source": [
    "Python implementation"
   ]
  },
  {
   "cell_type": "code",
   "execution_count": null,
   "metadata": {},
   "outputs": [
    {
     "name": "stdout",
     "output_type": "stream",
     "text": [
      "Original array: [12, 8, 9, 1, 2, 13]\n",
      "sorted array: [1, 2, 8, 9, 12, 13]\n"
     ]
    }
   ],
   "source": [
    "def insertion_sort(arr):\n",
    "    for i in range(1, len(arr)): #traverse through 1 to len(arr)\n",
    "        key = arr[i]\n",
    "        j = i -1\n",
    "        while j>= 0 and key< arr[j]:\n",
    "            arr[j +1] = arr[j]\n",
    "            j -=1\n",
    "        arr[j +1] = key\n",
    "arr = [12, 8, 9, 1, 2, 13]\n",
    "print('Original array:', arr)\n",
    "insertion_sort(arr)\n",
    "print('sorted array:', arr)"
   ]
  },
  {
   "cell_type": "markdown",
   "metadata": {},
   "source": [
    "Explanation"
   ]
  },
  {
   "cell_type": "markdown",
   "metadata": {},
   "source": [
    "- Define the function that takes an array, arr as its input.\n",
    "- The outer loop will iterate through the array starting from the second element to the last element.\n",
    "- For each iteration, set key to the current element.\n",
    "- In the inner loop, j is initialised as i - 1 and while j is greater than or equal to 0 and arr[j] is greater than key, shift arr[j] to the right by one position.\n",
    "- Once the correct position is found place they key at j + 1\n"
   ]
  },
  {
   "cell_type": "markdown",
   "metadata": {},
   "source": [
    "Time complexity analysis"
   ]
  },
  {
   "cell_type": "markdown",
   "metadata": {},
   "source": [
    "- Best-case: If the list is already sorted. It is denoted as 0(n), because for each element there is only on compariosn and there is no shifting of elements.\n",
    "- Average-case: If the list is randomly order. It is dnoted as 0(n^2). It might need to shift half of the elements in the array.\n",
    "- Worst-case: If the list is in reverse order. It is denoted as 0(n^2)."
   ]
  },
  {
   "cell_type": "markdown",
   "metadata": {},
   "source": [
    "Advantages"
   ]
  },
  {
   "cell_type": "markdown",
   "metadata": {},
   "source": [
    "- It is simple and easy to implement.\n",
    "- It is stable for sorting.\n",
    "- It is efficient for small lists and nearly sorted lists.\n",
    "- It is space efficient."
   ]
  },
  {
   "cell_type": "markdown",
   "metadata": {},
   "source": [
    "Disadvantages"
   ]
  },
  {
   "cell_type": "markdown",
   "metadata": {},
   "source": [
    "- It is inefficient for large lists.\n",
    "- It isnt as efficient as the other sorting algorithms."
   ]
  },
  {
   "cell_type": "markdown",
   "metadata": {},
   "source": [
    "When to Use It"
   ]
  },
  {
   "cell_type": "markdown",
   "metadata": {},
   "source": [
    "1. Small datasets\n",
    "2. Nearly sorted arrays. This is because minimal shifts and comparisons will be required.\n",
    "3. Online sorting. This is where elements are being receieved in a stream and need to be sorted a they come.\n"
   ]
  },
  {
   "cell_type": "markdown",
   "metadata": {},
   "source": [
    "When Not to Use It"
   ]
  },
  {
   "cell_type": "markdown",
   "metadata": {},
   "source": [
    "1. Large datasets. This is because its time complexity can make it inefficient compared to other algorithms.\n",
    "2. Data with many elements out of order. This is because there is an increased amount of shifts and comparions leading to poor performance."
   ]
  },
  {
   "cell_type": "markdown",
   "metadata": {},
   "source": [
    "SELECTION SORT"
   ]
  },
  {
   "cell_type": "markdown",
   "metadata": {},
   "source": [
    "It is comparison based. It sorts an array by repeatedly selecting the smallest element from the unsorted portion and swapping with the first unsorted element."
   ]
  },
  {
   "cell_type": "markdown",
   "metadata": {},
   "source": [
    "First, we find the smallest element and swap it with the first element. Then we find the smallest among the remaining elements and swap it with the second element. Kepp doing this until sorted."
   ]
  },
  {
   "cell_type": "markdown",
   "metadata": {},
   "source": [
    "Step-by-step pseudocode"
   ]
  },
  {
   "cell_type": "markdown",
   "metadata": {},
   "source": [
    "Procedure SelectionSort(array, n)\n",
    "- begin\n",
    "    - For i = 0 to n -2\n",
    "        - minIndex = i\n",
    "        - For j = i + 1 to n - 1\n",
    "             - if array[j] < array[minIndex]\n",
    "                   - minIndex = j\n",
    "            - end if\n",
    "        - end for\n",
    "        - if minIndex != i\n",
    "            - Swap array[i] and array[minIndex]\n",
    "        - end if \n",
    "   - end for\n",
    "- end"
   ]
  },
  {
   "cell_type": "markdown",
   "metadata": {},
   "source": [
    "Explanation"
   ]
  },
  {
   "cell_type": "markdown",
   "metadata": {},
   "source": [
    "- Iterate through the array starting from the first element to the second to the last element. The last element will automatically be in place after the previous elements are recorded.\n",
    "- Assume the current position i as the index of the smallest element.\n",
    "- Iterate through the remaining unsorted elements to find the actual smallest element.\n"
   ]
  },
  {
   "cell_type": "markdown",
   "metadata": {},
   "source": [
    "Python implementation"
   ]
  },
  {
   "cell_type": "code",
   "execution_count": 9,
   "metadata": {},
   "outputs": [
    {
     "name": "stdout",
     "output_type": "stream",
     "text": [
      "original array: [100, 78, 69, 56, 34, 23]\n",
      "sorted array: [23, 34, 56, 69, 78, 100]\n"
     ]
    }
   ],
   "source": [
    "def selection_sort(arr):\n",
    "    n = len(arr)\n",
    "    for i in range(n):\n",
    "        minIndex = i\n",
    "        for j in range(i + 1,n):\n",
    "            if arr[j] < arr[minIndex]:\n",
    "                minIndex = j\n",
    "        arr[i], arr[minIndex] = arr[minIndex], arr[i]\n",
    "arr = [100, 78, 69, 56, 34, 23]\n",
    "print('original array:', arr)\n",
    "selection_sort(arr)\n",
    "print('sorted array:', arr)\n"
   ]
  },
  {
   "cell_type": "markdown",
   "metadata": {},
   "source": [
    "Explanation"
   ]
  },
  {
   "cell_type": "markdown",
   "metadata": {},
   "source": [
    "- Define the function selection_sort(arr) that takes an array arr as its input.\n",
    "- Iterate through the array starting with the first element to the last element. (outer loop)\n",
    "- For each element iterate through the remaining unsorted elements to find the minimum element.(inner loop)\n",
    "- Update minIndex whenever a small element is found in the loop.\n",
    "- Swap the minimum element found with the elemnt at the current position i "
   ]
  },
  {
   "cell_type": "markdown",
   "metadata": {},
   "source": [
    "Time complexity Analysis"
   ]
  },
  {
   "cell_type": "markdown",
   "metadata": {},
   "source": [
    "- Best-case: This occurs when the input array is already sorted in ascending order. It is denoted as 0(n^2)"
   ]
  },
  {
   "cell_type": "markdown",
   "metadata": {},
   "source": [
    "For example if given a sorted array [1,2,3,4]. No swaps are needed but the algorithm still performs the same number of comparisons"
   ]
  },
  {
   "cell_type": "markdown",
   "metadata": {},
   "source": [
    "- Worst-case: This occurs when the input array is sorted in reverse order. It is denoted as 0(n^2)"
   ]
  },
  {
   "cell_type": "markdown",
   "metadata": {},
   "source": [
    "- Average-case: This occurs when the elements in the input array are in random order. The algorithm stilll needs to cmpare each element to find the smallest one. It is denoted as 0(n^2)"
   ]
  },
  {
   "cell_type": "markdown",
   "metadata": {},
   "source": [
    "Advantages"
   ]
  },
  {
   "cell_type": "markdown",
   "metadata": {},
   "source": [
    "- It is easy to understand and implement.\n",
    "- It requires only a constant extra memory space.\n",
    "\n"
   ]
  },
  {
   "cell_type": "markdown",
   "metadata": {},
   "source": [
    "Disadvantages"
   ]
  },
  {
   "cell_type": "markdown",
   "metadata": {},
   "source": [
    "- It has a time complexity that makes it slower compared to other algorithms.\n"
   ]
  },
  {
   "cell_type": "markdown",
   "metadata": {},
   "source": [
    "When to Use:"
   ]
  },
  {
   "cell_type": "markdown",
   "metadata": {},
   "source": [
    "1. Small Datasets. This is because of its simplicity.\n",
    "2. Partially sorted data. \n",
    "3. Minimum number of swaps. It performs minimum number of swaps necessary to sort the array"
   ]
  },
  {
   "cell_type": "markdown",
   "metadata": {},
   "source": [
    "When Not to Use"
   ]
  },
  {
   "cell_type": "markdown",
   "metadata": {},
   "source": [
    "1. Large datasets. Its time complexity can make it inefficient compared to other algorithms.\n",
    "2. Highly unsorted data. It will require a significant number of swaps and comparisons leading to poor performance.\n",
    "3. If speed is crucial in the performance of an application then it isnt efficient"
   ]
  },
  {
   "cell_type": "markdown",
   "metadata": {},
   "source": [
    "QUICK SORT"
   ]
  },
  {
   "cell_type": "markdown",
   "metadata": {},
   "source": [
    "It picks an element as a pivot and partitions the given array around the picked pivot."
   ]
  },
  {
   "cell_type": "markdown",
   "metadata": {},
   "source": [
    "1. Select an element from the array as the pivot. The choice can vary.\n",
    "2. Rearrange the array around the pivot.\n",
    "3. Appy the same process to the two partitioned sub-arrays."
   ]
  },
  {
   "cell_type": "markdown",
   "metadata": {},
   "source": [
    "Step-by-step pseudocode"
   ]
  },
  {
   "cell_type": "markdown",
   "metadata": {},
   "source": [
    "Algorithm QuickSort(array, low, high)\n",
    "- Begin\n",
    "   - If low < high\n",
    "       - pi = Partition(array, low, high)\n",
    "       - QuickSort(array, low, pi - 1)\n",
    "       - QuickSort(array, pi + 1, high)\n",
    "- End If\n",
    "- End\n",
    "\n",
    "Algorithm Partition(array, low, high)\n",
    "- Begin\n",
    "     - pivot = array[high]\n",
    "     - i = low - 1\n",
    "     - For j = low to high - 1\n",
    "         - If array[j] < pivot\n",
    "            -  i = i + 1\n",
    "            - Swap array[i] with array[j]\n",
    "     - Swap array[i + 1] with array[high]\n",
    "     - Return i + 1\n",
    "- End\n"
   ]
  },
  {
   "cell_type": "markdown",
   "metadata": {},
   "source": [
    "Explanation"
   ]
  },
  {
   "cell_type": "markdown",
   "metadata": {},
   "source": [
    "Quicksort function\n",
    "- If low is less than high, the array is divided and sorted.\n",
    "- pivot is the partioning index after partioning the array around the pivot.\n",
    "- recursivley sort the sub-array before and after the pivot."
   ]
  },
  {
   "cell_type": "markdown",
   "metadata": {},
   "source": [
    "Partition function\n",
    "- choose the last element as a pivot.\n",
    "- initialize i to be the one position before the array.\n",
    "- iterate over the array to partition is based on the pivot.\n",
    "- if the current eleemnt is less than the pivot increment i and swap the current element with the lement at i.\n"
   ]
  },
  {
   "cell_type": "markdown",
   "metadata": {},
   "source": [
    "Python implementation"
   ]
  },
  {
   "cell_type": "code",
   "execution_count": 10,
   "metadata": {},
   "outputs": [
    {
     "name": "stdout",
     "output_type": "stream",
     "text": [
      "Original array: [10, 7, 8, 9, 1, 5]\n",
      "Sorted array: [1, 5, 7, 8, 9, 10]\n"
     ]
    }
   ],
   "source": [
    "def quick_sort(arr):\n",
    "    def partition(low, high):\n",
    "        pivot = arr[high]\n",
    "        i = low - 1\n",
    "        for j in range(low, high):\n",
    "            if arr[j] < pivot:\n",
    "                i += 1\n",
    "                arr[i], arr[j] = arr[j], arr[i]\n",
    "        arr[i + 1], arr[high] = arr[high], arr[i + 1]\n",
    "        return i + 1\n",
    "\n",
    "\n",
    "    def quicksort_recursive(low, high):\n",
    "        if low < high:\n",
    "            pi = partition(low, high)\n",
    "            quicksort_recursive(low, pi - 1)\n",
    "            quicksort_recursive(pi + 1, high)\n",
    "\n",
    "    quicksort_recursive(0, len(arr) - 1)\n",
    "\n",
    "# Example usage\n",
    "arr = [10, 7, 8, 9, 1, 5]\n",
    "print(\"Original array:\", arr)\n",
    "quick_sort(arr)\n",
    "print('Sorted array:', arr)"
   ]
  },
  {
   "cell_type": "markdown",
   "metadata": {},
   "source": [
    "Explanation"
   ]
  },
  {
   "cell_type": "markdown",
   "metadata": {},
   "source": [
    "- The quick_sort function initializes the quicksort process.\n",
    "- Choose the last element as the pivot.\n",
    "\n",
    "- Move elements smaller than the pivot to the left and larger elements to the right.\n",
    "\n",
    "- Place the pivot element in its correct position and return the pivot index.\n",
    "\n",
    "- The quicksort_recursive function sorts the array by recursively applying the quick sort to the sub-arrays before and after the pivot.\n",
    "\n",
    "- The quick_sort function calls quicksort_recursive with the initial boundaries of the array."
   ]
  },
  {
   "cell_type": "markdown",
   "metadata": {},
   "source": [
    "Time complexity analysis"
   ]
  },
  {
   "cell_type": "markdown",
   "metadata": {},
   "source": [
    "- Best-case: This occurs when the pivot selected divides the array into nearly two equal halves. It is denoted as (0(nlogn))\n",
    "- Average-case: The pivot will divide the array into two sub-array of roughly equla size. It is denoted as 0(nlogn)\n",
    "- Worst-case: This occurs when the pivot chosen is either smallest or the largest in the array. It is denoted as 0(n^2)"
   ]
  },
  {
   "cell_type": "markdown",
   "metadata": {},
   "source": [
    "Advantages"
   ]
  },
  {
   "cell_type": "markdown",
   "metadata": {},
   "source": [
    "- It is a divide and conquer algorithm making it easy to solve problems.\n",
    "- It is efficient on large datasets.\n",
    "- It only requires a small amount of memeory to function.\n",
    "- It is tail recursive"
   ]
  },
  {
   "cell_type": "markdown",
   "metadata": {},
   "source": [
    "Disadvantages\n",
    "- It isnt a good choice for small datasets.\n",
    "- It has the worst-case time complexity which occurs when the pivot is chosen poorly"
   ]
  },
  {
   "cell_type": "markdown",
   "metadata": {},
   "source": [
    "When to Use"
   ]
  },
  {
   "cell_type": "markdown",
   "metadata": {},
   "source": [
    "1. Large datasets. \n",
    "2. Average case performance. It is suitable for practical performances. "
   ]
  },
  {
   "cell_type": "markdown",
   "metadata": {},
   "source": [
    "When Not to Use:\n",
    "1. Worst Case Scenario:If there is a risk of encountering the worst-case \n",
    " (e.g., when the input data is already sorted or reverse sorted), quick sort might not be the best choice unless you use a modified version with a better pivot selection strategy.\n",
    "\n",
    "\n",
    "2. Data with Poor Pivot Choices:\n",
    "In cases where choosing a good pivot is difficult, quick sort might suffer from poor performance. \n",
    "\n",
    "\n"
   ]
  },
  {
   "cell_type": "markdown",
   "metadata": {},
   "source": [
    "MERGE SORT"
   ]
  },
  {
   "cell_type": "markdown",
   "metadata": {},
   "source": [
    "It works by recursively dividing the input array into smaller subarrays and sorting those subarrays then merging them back together to obtain the sorted array."
   ]
  },
  {
   "cell_type": "markdown",
   "metadata": {},
   "source": [
    "1. Divide the list into two havlves until it can no more be divided.\n",
    "2. Each subarray is sorted individually using the merge sort algorithm\n",
    "3. The sorted subarrays are merged back together un sorted order.\n"
   ]
  },
  {
   "cell_type": "markdown",
   "metadata": {},
   "source": [
    "Pseudocode representation"
   ]
  },
  {
   "cell_type": "markdown",
   "metadata": {},
   "source": [
    "Algorithm MergeSort(array, left, right)\n",
    "1. Begin\n",
    "2.     If left < right\n",
    "3.         mid = (left + right) / 2\n",
    "4.         MergeSort(array, left, mid)\n",
    "5.         MergeSort(array, mid + 1, right)\n",
    "6.         Merge(array, left, mid, right)\n",
    "7. End If\n",
    "8. End\n",
    "\n",
    "Algorithm Merge(array, left, mid, right)\n",
    "1. Begin\n",
    "2.     n1 = mid - left + 1\n",
    "3.     n2 = right - mid\n",
    "4.     Create temporary arrays L[1..n1] and R[1..n2]\n",
    "5.     For i = 1 to n1\n",
    "6.         L[i] = array[left + i - 1]\n",
    "7.     End For\n",
    "8.     For j = 1 to n2\n",
    "9.         R[j] = array[mid + j]\n",
    "10.    End For\n",
    "11.    i = 1, j = 1, k = left\n",
    "12.    While i <= n1 and j <= n2\n",
    "13.        If L[i] <= R[j]\n",
    "14.            array[k] = L[i]\n",
    "15.            i = i + 1\n",
    "16.        Else\n",
    "17.            array[k] = R[j]\n",
    "18.            j = j + 1\n",
    "19.        End If\n",
    "20.        k = k + 1\n",
    "21.    End While\n",
    "22.    While i <= n1\n",
    "23.        array[k] = L[i]\n",
    "24.        i = i + 1\n",
    "25.        k = k + 1\n",
    "26.    End While\n",
    "27.    While j <= n2\n",
    "28.        array[k] = R[j]\n",
    "29.        j = j + 1\n",
    "30.        k = k + 1\n",
    "31.    End While\n",
    "32. End\n"
   ]
  },
  {
   "cell_type": "markdown",
   "metadata": {},
   "source": [
    "Explanation"
   ]
  },
  {
   "cell_type": "markdown",
   "metadata": {},
   "source": [
    "MergeSort function: \n",
    "- Check if left is less than right to ensure there are elements to sort.\n",
    "- Calculate the middle point of the array. \n",
    "- Recursively apply mergesort to the left half of array and the right half.\n",
    "- Merge the two halves back."
   ]
  },
  {
   "cell_type": "markdown",
   "metadata": {},
   "source": [
    "Python implementation"
   ]
  },
  {
   "cell_type": "code",
   "execution_count": 11,
   "metadata": {},
   "outputs": [
    {
     "name": "stdout",
     "output_type": "stream",
     "text": [
      "Original array: [12, 11, 13, 5, 6, 7]\n",
      "Sorted array: [5, 6, 7, 11, 12, 13]\n"
     ]
    }
   ],
   "source": [
    "def merge_sort(arr):\n",
    "    if len(arr) > 1:\n",
    "        # Finding the middle of the array\n",
    "        mid = len(arr) // 2\n",
    "\n",
    "        # Dividing the array elements into 2 halves\n",
    "        left_half = arr[:mid]\n",
    "        right_half = arr[mid:]\n",
    "\n",
    "        # Recursively sorting the first half\n",
    "        merge_sort(left_half)\n",
    "\n",
    "        # Recursively sorting the second half\n",
    "        merge_sort(right_half)\n",
    "\n",
    "        i = j = k = 0\n",
    "\n",
    "        # Merging the left and right halves\n",
    "        while i < len(left_half) and j < len(right_half):\n",
    "            if left_half[i] < right_half[j]:\n",
    "                arr[k] = left_half[i]\n",
    "                i += 1\n",
    "            else:\n",
    "                arr[k] = right_half[j]\n",
    "                j += 1\n",
    "            k += 1\n",
    "\n",
    "        # Checking if any element was left\n",
    "        while i < len(left_half):\n",
    "            arr[k] = left_half[i]\n",
    "            i += 1\n",
    "            k += 1\n",
    "\n",
    "        while j < len(right_half):\n",
    "            arr[k] = right_half[j]\n",
    "            j += 1\n",
    "            k += 1\n",
    "\n",
    "# Example usage\n",
    "arr = [12, 11, 13, 5, 6, 7]\n",
    "print(\"Original array:\", arr)\n",
    "merge_sort(arr)\n",
    "print(\"Sorted array:\", arr)\n"
   ]
  },
  {
   "cell_type": "markdown",
   "metadata": {},
   "source": [
    "- The function merge-sort checks if the length of the array arr is greater than 1.\n",
    "- The array is divided into two halves.\n",
    "- The merge sort function is called recursively to s rot the left_half and right_half.\n",
    "- Then the merging happens\n"
   ]
  },
  {
   "cell_type": "markdown",
   "metadata": {},
   "source": [
    "Time complexity Analysis"
   ]
  },
  {
   "cell_type": "markdown",
   "metadata": {},
   "source": [
    "- Best Case: O(n log n), When the array is already sorted or nearly sorted.\n",
    "- Average Case: O(n log n), When the array is randomly ordered.\n",
    "- Worst Case: O(n log n), When the array is sorted in reverse order."
   ]
  },
  {
   "cell_type": "markdown",
   "metadata": {},
   "source": [
    "Advantages\n",
    "-  It is straightforward.\n",
    "- It performs well on large datasets.\n"
   ]
  },
  {
   "cell_type": "markdown",
   "metadata": {},
   "source": [
    "Disadvantages"
   ]
  },
  {
   "cell_type": "markdown",
   "metadata": {},
   "source": [
    "- It requires additional memory to store the merges sub-arrays during the sorting process. \n",
    "- "
   ]
  },
  {
   "cell_type": "markdown",
   "metadata": {},
   "source": [
    "When to Use"
   ]
  },
  {
   "cell_type": "markdown",
   "metadata": {},
   "source": [
    "1. Large datasets: It has a consistent time complexity for sorting large data sets, regardless of the order of the elements.\n",
    "2. Linked lists\n"
   ]
  },
  {
   "cell_type": "markdown",
   "metadata": {},
   "source": [
    "When Not to Use"
   ]
  },
  {
   "cell_type": "markdown",
   "metadata": {},
   "source": [
    "1. Space constraints. It reuwires additional space during merging.\n",
    "2. Small datasets. Simpler algorithms are suitable for that"
   ]
  }
 ],
 "metadata": {
  "kernelspec": {
   "display_name": "Python 3",
   "language": "python",
   "name": "python3"
  },
  "language_info": {
   "codemirror_mode": {
    "name": "ipython",
    "version": 3
   },
   "file_extension": ".py",
   "mimetype": "text/x-python",
   "name": "python",
   "nbconvert_exporter": "python",
   "pygments_lexer": "ipython3",
   "version": "3.13.0"
  }
 },
 "nbformat": 4,
 "nbformat_minor": 2
}
