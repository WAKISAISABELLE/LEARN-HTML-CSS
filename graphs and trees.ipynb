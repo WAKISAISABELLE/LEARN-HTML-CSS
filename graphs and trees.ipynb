{
 "cells": [
  {
   "cell_type": "markdown",
   "metadata": {},
   "source": [
    "ISABELLE WAKISA B30311 S24B38/019"
   ]
  },
  {
   "cell_type": "markdown",
   "metadata": {},
   "source": [
    "PART 1: GRAPHS"
   ]
  },
  {
   "cell_type": "markdown",
   "metadata": {},
   "source": [
    "A graph is a non-linear structure consisting of vertices and edges."
   ]
  },
  {
   "cell_type": "markdown",
   "metadata": {},
   "source": [
    "- V stands for vertices.\n",
    "- E stands for edges.\n",
    "- Therefore a graph is denoted by G(V,E)\n"
   ]
  },
  {
   "cell_type": "markdown",
   "metadata": {},
   "source": [
    "APPLICATIONS OF GRAPHS"
   ]
  },
  {
   "cell_type": "markdown",
   "metadata": {},
   "source": [
    "- Graphs can be used in social media analysis to identify trends therefore useful for marketing.\n",
    "- They are important for monitoring network traffic.\n",
    "- They are crucial for analysing real-time financial data such as stock prices, and market trends."
   ]
  },
  {
   "cell_type": "markdown",
   "metadata": {},
   "source": [
    "- The implementation of graphs can be seen in Facebook. Each person on Facebook is a node and connected through edges."
   ]
  },
  {
   "cell_type": "markdown",
   "metadata": {},
   "source": [
    "GRAPHS VS TREES"
   ]
  },
  {
   "cell_type": "markdown",
   "metadata": {},
   "source": [
    "Graphs:"
   ]
  },
  {
   "cell_type": "markdown",
   "metadata": {},
   "source": [
    "- Graphs are used when comparing complex relationships for example in social networks.\n",
    "- Useful for routing and navigation problems, such as finding the shortest path in a road network or internet routing.\n",
    "\n"
   ]
  },
  {
   "cell_type": "markdown",
   "metadata": {},
   "source": [
    "Trees:"
   ]
  },
  {
   "cell_type": "markdown",
   "metadata": {},
   "source": [
    "- Used in decision-making algorithms, like decision trees in machine learning for classification and regression tasks.\n",
    "- Perfect for representing hierarchical data structures, such as organizational charts, file systems, and XML/HTML documents.\n",
    "- Allow fast search, insert, delete on a sorted data. It also allows finding closest item"
   ]
  },
  {
   "cell_type": "markdown",
   "metadata": {},
   "source": [
    "TYPES OF GRAPHS"
   ]
  },
  {
   "cell_type": "markdown",
   "metadata": {},
   "source": [
    "Directed vs Undirected:"
   ]
  },
  {
   "cell_type": "markdown",
   "metadata": {},
   "source": [
    "A directed graph is a graph in which edges have a direction while undirected graphs are graphs where the edges dont have specific direction"
   ]
  },
  {
   "cell_type": "markdown",
   "metadata": {},
   "source": [
    "Weighted vs Unweighted"
   ]
  },
  {
   "cell_type": "markdown",
   "metadata": {},
   "source": [
    "Weighted graphs are graphs where each edge has a number that represents distance, cost or time while unweighted graphs are graphs where all edges are treated equally with no extra values."
   ]
  },
  {
   "cell_type": "markdown",
   "metadata": {},
   "source": [
    "Connected vs Disconnected"
   ]
  },
  {
   "cell_type": "markdown",
   "metadata": {},
   "source": [
    "A graph is said to be connected if there exists at least one path between each and every pair of vertices, otherwise, it is disconnected."
   ]
  },
  {
   "cell_type": "markdown",
   "metadata": {},
   "source": [
    "Cyclic vs Acyclic"
   ]
  },
  {
   "cell_type": "markdown",
   "metadata": {},
   "source": [
    "A cyclic is a graph where a path starts and ends at the same node while acyclic is a graph where no path starts and ends at the same node."
   ]
  },
  {
   "cell_type": "markdown",
   "metadata": {},
   "source": [
    "2. GRAPH TERMINOLOGY AND PROPERTIES"
   ]
  },
  {
   "cell_type": "markdown",
   "metadata": {},
   "source": [
    "Vertex:"
   ]
  },
  {
   "cell_type": "markdown",
   "metadata": {},
   "source": [
    "These are the fundamental units of a graph. They are connected by edges. In a social network graph, a vertex might represent a person."
   ]
  },
  {
   "cell_type": "markdown",
   "metadata": {},
   "source": [
    "Edge:"
   ]
  },
  {
   "cell_type": "markdown",
   "metadata": {},
   "source": [
    "These are drawn to connect two nodes of the graph. It represents relationship between vertices."
   ]
  },
  {
   "cell_type": "markdown",
   "metadata": {},
   "source": [
    "Edges can be directed or undirected. In a social network graph, edges can represent friendships between people.  "
   ]
  },
  {
   "cell_type": "markdown",
   "metadata": {},
   "source": [
    "Degree:"
   ]
  },
  {
   "cell_type": "markdown",
   "metadata": {},
   "source": [
    "This is the number of edges connected to it. It can be divided into indegree or outdegree."
   ]
  },
  {
   "cell_type": "markdown",
   "metadata": {},
   "source": [
    "- Indegree: the number of edges directed into a vertex.\n",
    "- Oudegree: the number of edges directed out of a vertex"
   ]
  },
  {
   "cell_type": "markdown",
   "metadata": {},
   "source": [
    "For example, in a social network graph where edges represents 'follows', the indegree would be the number of followers a person has."
   ]
  },
  {
   "cell_type": "markdown",
   "metadata": {},
   "source": [
    "In the same social network, the outdegree would be the number of people the person follows."
   ]
  },
  {
   "cell_type": "markdown",
   "metadata": {},
   "source": [
    "Adjacent vertices(neighbours)"
   ]
  },
  {
   "cell_type": "markdown",
   "metadata": {},
   "source": [
    "Two vertices are called neighbours if they are directly connected by an edge."
   ]
  },
  {
   "cell_type": "markdown",
   "metadata": {},
   "source": [
    "For example, consider a simple graph where vertices represent cities and edges represent roads connecting them. If there is a road (edge) connecting City A to City B, then A and B are adjacent vertices"
   ]
  },
  {
   "cell_type": "markdown",
   "metadata": {},
   "source": [
    "Path:"
   ]
  },
  {
   "cell_type": "markdown",
   "metadata": {},
   "source": [
    "A path is a trail in which neither vertices nor edges are connected. In other words, when traversing a graph along a path, each vertex and edge is visited only once."
   ]
  },
  {
   "cell_type": "markdown",
   "metadata": {},
   "source": [
    "Cycle:\n"
   ]
  },
  {
   "cell_type": "markdown",
   "metadata": {},
   "source": [
    "This is a closed path. Meaning it starts and ends at the same vertex ensuring that no other vertices or edges are repeated."
   ]
  },
  {
   "cell_type": "markdown",
   "metadata": {},
   "source": [
    "For example in a road network a cycle could be a trip starting and ending at city A without revisiting any other city"
   ]
  },
  {
   "cell_type": "markdown",
   "metadata": {},
   "source": [
    "Loops:"
   ]
  },
  {
   "cell_type": "markdown",
   "metadata": {},
   "source": [
    "A loop is a special type of edge that connects a vertex to itself. This is a special type of cycle with one vertex and one edge."
   ]
  },
  {
   "cell_type": "markdown",
   "metadata": {},
   "source": [
    "Connectivity:"
   ]
  },
  {
   "cell_type": "markdown",
   "metadata": {},
   "source": [
    "Strongly connected: A directed graph is strongly connected if there is a path from any vertex to every other vertex, following the direction of the edges.\n",
    "For example in a social network where every user follows every other user."
   ]
  },
  {
   "cell_type": "markdown",
   "metadata": {},
   "source": [
    "Weakly connected: A directed graph is weakly connected if there is a path between any two vertices, but the direction of the edges does not have to be followed. For example in a social network where some users follow others but not vice versa"
   ]
  },
  {
   "cell_type": "markdown",
   "metadata": {},
   "source": [
    "Disjoint graphs consist of multiple subgraphs that are not connected to each other. For example separate social media networks where no users follow each other across the networks."
   ]
  },
  {
   "cell_type": "markdown",
   "metadata": {},
   "source": [
    "3. GRAPH REPRESENTATION AND STORAGE"
   ]
  },
  {
   "cell_type": "markdown",
   "metadata": {},
   "source": [
    "Adjacency Matrix"
   ]
  },
  {
   "cell_type": "markdown",
   "metadata": {},
   "source": [
    "This is a square matrix that represents the graph in a matrix form."
   ]
  },
  {
   "cell_type": "markdown",
   "metadata": {},
   "source": [
    "For directed graphs, \n",
    "𝑚\n",
    "𝑎\n",
    "𝑡\n",
    "𝑟\n",
    "𝑖\n",
    "𝑥\n",
    "[\n",
    "𝑖\n",
    "]\n",
    "[\n",
    "𝑗\n",
    "]\n",
    " is non-zero (or true) if there is an edge from vertex \n",
    "𝑖\n",
    " to vertex \n",
    "𝑗\n",
    "."
   ]
  },
  {
   "cell_type": "markdown",
   "metadata": {},
   "source": [
    "For undirected graphs,the matrix is symmetric: matrix[i][j]= matrix[j][i]"
   ]
  },
  {
   "cell_type": "markdown",
   "metadata": {},
   "source": [
    "Advantages:\n",
    "- It is fast to check if there is an edge between two vertices.\n",
    "- It is easy to implement and understand"
   ]
  },
  {
   "cell_type": "markdown",
   "metadata": {},
   "source": [
    "Adjacency List"
   ]
  },
  {
   "cell_type": "markdown",
   "metadata": {},
   "source": [
    "An adjacency list is an array of lists. The array's size is \n",
    "𝑉\n",
    ", and each element in the array is a list of vertices that are adjacent to the corresponding vertex."
   ]
  },
  {
   "cell_type": "markdown",
   "metadata": {},
   "source": [
    "Directed graphs: Each list contains the vertices that the corresponding vertex has edges to."
   ]
  },
  {
   "cell_type": "markdown",
   "metadata": {},
   "source": [
    "Undirected graphs: Each list contains the vertices that are connected to the corresponding vertex, and each edge is represented twice."
   ]
  },
  {
   "cell_type": "markdown",
   "metadata": {},
   "source": [
    "Advantages:\n",
    "- Can easily handle graphs with varying numbers of edges per vertex."
   ]
  },
  {
   "cell_type": "markdown",
   "metadata": {},
   "source": [
    "Disadvantages:\n",
    "- Takes longer to check for the presence of a specific edge."
   ]
  },
  {
   "cell_type": "markdown",
   "metadata": {},
   "source": [
    "Comparison:\n",
    "- Adjacency Matrix are simple and straighforward to implement while adjacency lists are more complex to implement.\n",
    "- Adjacency matrix are more inefficient as they use too much space while adjacency lists are efficient.\n",
    "- Adjacency matrix are faster for graph updates unlike adjacency lists that are slower.\n",
    "- Adjacency matrix are used for denser graphs while adjacency lists are used for sparse graphs."
   ]
  },
  {
   "cell_type": "markdown",
   "metadata": {},
   "source": [
    "Python implemenatation"
   ]
  },
  {
   "cell_type": "code",
   "execution_count": null,
   "metadata": {},
   "outputs": [
    {
     "name": "stdout",
     "output_type": "stream",
     "text": [
      "A: ['B', 'C']\n",
      "B: ['A', 'D']\n",
      "C: ['A', 'D']\n",
      "D: ['B', 'C']\n"
     ]
    }
   ],
   "source": [
    "class Graph: #class is a keyword for creating objects. It will define what the object should do.\n",
    "    def __init__(self):\n",
    "        self.adj_list = {} #self adjacency list\n",
    "\n",
    "    def add_edge(self, vertex1, vertex2): #add an edeg between two vertices.\n",
    "        if vertex1 not in self.adj_list:\n",
    "            self.adj_list[vertex1] = []\n",
    "        if vertex2 not in self.adj_list:\n",
    "            self.adj_list[vertex2] = []\n",
    "        self.adj_list[vertex1].append(vertex2)\n",
    "        self.adj_list[vertex2].append(vertex1)\n",
    "\n",
    "    def display(self):\n",
    "        for vertex, neighbors in self.adj_list.items():\n",
    "            print(f\"{vertex}: {neighbors}\")\n",
    "\n",
    "# Example usage\n",
    "g = Graph()\n",
    "g.add_edge('A', 'B')\n",
    "g.add_edge('A', 'C')\n",
    "g.add_edge('B', 'D')\n",
    "g.add_edge('C', 'D')\n",
    "g.display()\n",
    "# this allows both directed and undirected graphs.\n",
    "#it displays the graph sturucture\n"
   ]
  },
  {
   "cell_type": "markdown",
   "metadata": {},
   "source": [
    "4. GRAPH TRAVERSAL ALGORITHMS"
   ]
  },
  {
   "cell_type": "markdown",
   "metadata": {},
   "source": [
    "Breadth-first search is an algorithm used to traverse through a graph or tree. \n",
    "It starts from the node and explores all its neighbours thus traversing the graph level by level."
   ]
  },
  {
   "cell_type": "markdown",
   "metadata": {},
   "source": [
    "Depth-first search is an  algorithm used to traverse through a tree or graph. It starts from the source node and explores as far down as possible along the branch before backtracking."
   ]
  },
  {
   "cell_type": "markdown",
   "metadata": {},
   "source": [
    "Python implementation:"
   ]
  },
  {
   "cell_type": "markdown",
   "metadata": {},
   "source": [
    "BFS:"
   ]
  },
  {
   "cell_type": "code",
   "execution_count": 9,
   "metadata": {},
   "outputs": [
    {
     "name": "stdout",
     "output_type": "stream",
     "text": [
      "BFS starting from 0: \n",
      "0 1 2 3 4 "
     ]
    }
   ],
   "source": [
    "from collections import deque\n",
    "\n",
    "# BFS from given source s\n",
    "def bfs(adj, s):\n",
    "  \n",
    "    # Create a queue for BFS\n",
    "    q = deque()\n",
    "    \n",
    "    # Initially mark all the vertices as not visited\n",
    "    # When we push a vertex into the q, we mark it as \n",
    "    # visited\n",
    "    visited = [False] * len(adj);\n",
    "\n",
    "    # Mark the source node as visited and enqueue it\n",
    "    visited[s] = True\n",
    "    q.append(s)\n",
    "\n",
    "    # Iterate over the queue\n",
    "    while q:\n",
    "      \n",
    "        # Dequeue a vertex from queue and print it\n",
    "        curr = q.popleft()\n",
    "        print(curr, end=\" \")\n",
    "\n",
    "        # Get all adjacent vertices of the dequeued \n",
    "        # vertex. If an adjacent has not been visited, \n",
    "        # mark it visited and enqueue it\n",
    "        for x in adj[curr]:\n",
    "            if not visited[x]:\n",
    "                visited[x] = True\n",
    "                q.append(x)\n",
    "\n",
    "# Function to add an edge to the graph\n",
    "def add_edge(adj, u, v):\n",
    "    adj[u].append(v)\n",
    "    adj[v].append(u)\n",
    "\n",
    "# Example usage\n",
    "if __name__ == \"__main__\":\n",
    "  \n",
    "    # Number of vertices in the graph\n",
    "    V = 5\n",
    "\n",
    "    # Adjacency list representation of the graph\n",
    "    adj = [[] for _ in range(V)]\n",
    "\n",
    "    # Add edges to the graph\n",
    "    add_edge(adj, 0, 1)\n",
    "    add_edge(adj, 0, 2)\n",
    "    add_edge(adj, 1, 3)\n",
    "    add_edge(adj, 1, 4)\n",
    "    add_edge(adj, 2, 4)\n",
    "\n",
    "    # Perform BFS traversal starting from vertex 0\n",
    "    print(\"BFS starting from 0: \")\n",
    "    bfs(adj, 0)\n"
   ]
  },
  {
   "cell_type": "markdown",
   "metadata": {},
   "source": [
    "Time complexities:\n",
    "- BFS explores all the vertices and edges in the graph. In the worst-case it visits every vertex and edge once/ The time complexity is 0(V+E) where V and E are the number of vertices and edges in the given graph."
   ]
  },
  {
   "cell_type": "markdown",
   "metadata": {},
   "source": [
    "Applications:\n",
    "- Shortest path finding.\n",
    "- Network routing\n"
   ]
  },
  {
   "cell_type": "markdown",
   "metadata": {},
   "source": [
    "DFS:"
   ]
  },
  {
   "cell_type": "code",
   "execution_count": 10,
   "metadata": {},
   "outputs": [
    {
     "name": "stdout",
     "output_type": "stream",
     "text": [
      "DFS Traversal Starting from Vertex A:\n",
      "A B D C E "
     ]
    }
   ],
   "source": [
    "class Graph:\n",
    "    def __init__(self):\n",
    "        self.adj_list = {}\n",
    "\n",
    "    def add_edge(self, vertex1, vertex2):\n",
    "        if vertex1 not in self.adj_list:\n",
    "            self.adj_list[vertex1] = []\n",
    "        if vertex2 not in self.adj_list:\n",
    "            self.adj_list[vertex2] = []\n",
    "        self.adj_list[vertex1].append(vertex2)\n",
    "        self.adj_list[vertex2].append(vertex1)\n",
    "\n",
    "    def dfs(self, start_vertex, visited=None):\n",
    "        if visited is None:\n",
    "            visited = set()\n",
    "\n",
    "        visited.add(start_vertex)\n",
    "        print(start_vertex, end=\" \")\n",
    "\n",
    "        for neighbor in self.adj_list[start_vertex]:\n",
    "            if neighbor not in visited:\n",
    "                self.dfs(neighbor, visited)\n",
    "\n",
    "# Example usage\n",
    "g = Graph()\n",
    "g.add_edge('A', 'B')\n",
    "g.add_edge('A', 'C')\n",
    "g.add_edge('B', 'D')\n",
    "g.add_edge('C', 'D')\n",
    "g.add_edge('D', 'E')\n",
    "\n",
    "print(\"DFS Traversal Starting from Vertex A:\")\n",
    "g.dfs('A')\n"
   ]
  },
  {
   "cell_type": "markdown",
   "metadata": {},
   "source": [
    "Time complexities:\n",
    "- It is denoted as 0(V+E) because every vertex and edge is visisted at most once."
   ]
  },
  {
   "cell_type": "markdown",
   "metadata": {},
   "source": [
    "Applications:\n",
    "- DFS can be used in solving puzzles and games, such as Sudoku.\n"
   ]
  },
  {
   "cell_type": "markdown",
   "metadata": {},
   "source": [
    "5.SHORTEST PATH ALGORITHMS"
   ]
  },
  {
   "cell_type": "markdown",
   "metadata": {},
   "source": [
    "Dijkstra's algorithm"
   ]
  },
  {
   "cell_type": "markdown",
   "metadata": {},
   "source": [
    "This algorithm maintains a set of visited vertices and a set of unvisited vertices. "
   ]
  },
  {
   "cell_type": "markdown",
   "metadata": {},
   "source": [
    "It can be applied in two ways: \n",
    "- Array-based \n",
    "- Heap implementation"
   ]
  },
  {
   "cell_type": "markdown",
   "metadata": {},
   "source": [
    "Using the array-based approach it will initialize an array to store distances from the source to each node, then mark all unvisisted nodes and set the distance to the source node as 0 and infinity for all other nodes. Ths will be repeated untill all nodes are visited."
   ]
  },
  {
   "cell_type": "code",
   "execution_count": 11,
   "metadata": {},
   "outputs": [
    {
     "name": "stdout",
     "output_type": "stream",
     "text": [
      "Shortest distances from vertex 0: [0, 1, 3, 4]\n"
     ]
    }
   ],
   "source": [
    "def dijkstra(graph, start_vertex):\n",
    "    num_vertices = len(graph)\n",
    "    distances = [float('infinity')] * num_vertices\n",
    "    distances[start_vertex] = 0\n",
    "    visited = set()\n",
    "\n",
    "    while len(visited) < num_vertices:\n",
    "        # Select the unvisited vertex with the smallest distance\n",
    "        min_distance = float('infinity')\n",
    "        current_vertex = None\n",
    "        for vertex in range(num_vertices):\n",
    "            if vertex not in visited and distances[vertex] < min_distance:\n",
    "                min_distance = distances[vertex]\n",
    "                current_vertex = vertex\n",
    "\n",
    "        if current_vertex is None:\n",
    "            break\n",
    "\n",
    "        visited.add(current_vertex)\n",
    "        for neighbor, weight in graph[current_vertex]:\n",
    "            if neighbor not in visited:\n",
    "                new_distance = distances[current_vertex] + weight\n",
    "                if new_distance < distances[neighbor]:\n",
    "                    distances[neighbor] = new_distance\n",
    "\n",
    "    return distances\n",
    "\n",
    "# Example graph represented as an adjacency list with vertex indices\n",
    "graph = [\n",
    "    [(1, 1), (2, 4)],  # Vertex 0 is connected to Vertex 1 with weight 1, and to Vertex 2 with weight 4\n",
    "    [(0, 1), (2, 2), (3, 5)],  # Vertex 1 connections\n",
    "    [(0, 4), (1, 2), (3, 1)],  # Vertex 2 connections\n",
    "    [(1, 5), (2, 1)]  # Vertex 3 connections\n",
    "]\n",
    "\n",
    "# Running Dijkstra's algorithm\n",
    "start_vertex = 0\n",
    "distances = dijkstra(graph, start_vertex)\n",
    "print(f\"Shortest distances from vertex {start_vertex}: {distances}\")\n"
   ]
  },
  {
   "cell_type": "markdown",
   "metadata": {},
   "source": [
    "Using the priority queue."
   ]
  },
  {
   "cell_type": "code",
   "execution_count": 12,
   "metadata": {},
   "outputs": [
    {
     "name": "stdout",
     "output_type": "stream",
     "text": [
      "Shortest distances from vertex A: {'A': 0, 'B': 1, 'C': 3, 'D': 4}\n"
     ]
    }
   ],
   "source": [
    "import heapq\n",
    "\n",
    "def dijkstra(graph, start_vertex):\n",
    "    # Initialize distances and priority queue\n",
    "    distances = {vertex: float('infinity') for vertex in graph}\n",
    "    distances[start_vertex] = 0\n",
    "    priority_queue = [(0, start_vertex)]\n",
    "\n",
    "    while priority_queue:\n",
    "        current_distance, current_vertex = heapq.heappop(priority_queue)\n",
    "\n",
    "        # Skip processing if we've already found a shorter path\n",
    "        if current_distance > distances[current_vertex]:\n",
    "            continue\n",
    "\n",
    "        # Explore neighbors and update their distances\n",
    "        for neighbor, weight in graph[current_vertex]:\n",
    "            distance = current_distance + weight\n",
    "\n",
    "            # Only update if the new path is shorter\n",
    "            if distance < distances[neighbor]:\n",
    "                distances[neighbor] = distance\n",
    "                heapq.heappush(priority_queue, (distance, neighbor))\n",
    "\n",
    "    return distances\n",
    "\n",
    "# Example graph represented as an adjacency list\n",
    "graph = {\n",
    "    'A': [('B', 1), ('C', 4)],\n",
    "    'B': [('A', 1), ('C', 2), ('D', 5)],\n",
    "    'C': [('A', 4), ('B', 2), ('D', 1)],\n",
    "    'D': [('B', 5), ('C', 1)]\n",
    "}\n",
    "\n",
    "# Running Dijkstra's algorithm\n",
    "start_vertex = 'A'\n",
    "distances = dijkstra(graph, start_vertex)\n",
    "print(f\"Shortest distances from vertex {start_vertex}: {distances}\")\n"
   ]
  },
  {
   "cell_type": "markdown",
   "metadata": {},
   "source": [
    "6. MINIMUM SPANNING TREES"
   ]
  },
  {
   "cell_type": "markdown",
   "metadata": {},
   "source": [
    "A spanning tree is a subgraph that includes all the nodes of the original graph but only enough edges to form a tree"
   ]
  },
  {
   "cell_type": "markdown",
   "metadata": {},
   "source": [
    "Minimum spanning tree is a spanning tree that has the minimum weight among all possible spanning trees."
   ]
  },
  {
   "cell_type": "markdown",
   "metadata": {},
   "source": [
    "Kruskal's algorithm:\n",
    "- It sorts all the edges of the graphs by their weights\n",
    "- The starts the iterations of finding the spanning tree.\n",
    "- at each iteration, the algorithm adds the lowest-weight edge one by one."
   ]
  },
  {
   "cell_type": "code",
   "execution_count": 13,
   "metadata": {},
   "outputs": [
    {
     "name": "stdout",
     "output_type": "stream",
     "text": [
      "Edges in MST: [[2, 3, 4], [0, 3, 5], [0, 1, 10]]\n"
     ]
    }
   ],
   "source": [
    "# Assume graph is represented as a list of edges (u, v, weight)\n",
    "\n",
    "def find(parent, i):\n",
    "    if parent[i] == i:\n",
    "        return i\n",
    "    else:\n",
    "        return find(parent, parent[i])\n",
    "\n",
    "def union(parent, rank, x, y):\n",
    "    root_x = find(parent, x)\n",
    "    root_y = find(parent, y)\n",
    "    \n",
    "    if rank[root_x] < rank[root_y]:\n",
    "        parent[root_x] = root_y\n",
    "    elif rank[root_x] > rank[root_y]:\n",
    "        parent[root_y] = root_x\n",
    "    else:\n",
    "        parent[root_y] = root_x\n",
    "        rank[root_x] += 1\n",
    "\n",
    "def kruskal(graph, num_vertices):\n",
    "    result = []  # This will store the MST\n",
    "    i, e = 0, 0  # i is index for sorted edges, e is index for result[]\n",
    "    \n",
    "    # Step 1: Sort all the edges\n",
    "    graph = sorted(graph, key=lambda item: item[2])\n",
    "    \n",
    "    parent = []\n",
    "    rank = []\n",
    "    \n",
    "    # Create V subsets with single elements\n",
    "    for node in range(num_vertices):\n",
    "        parent.append(node)\n",
    "        rank.append(0)\n",
    "    \n",
    "    # Step 2: Pick the smallest edge and check if it forms a cycle\n",
    "    while e < num_vertices - 1:\n",
    "        u, v, w = graph[i]\n",
    "        i = i + 1\n",
    "        x = find(parent, u)\n",
    "        y = find(parent, v)\n",
    "        \n",
    "        # If including this edge doesn't cause a cycle\n",
    "        if x != y:\n",
    "            e = e + 1\n",
    "            result.append([u, v, w])\n",
    "            union(parent, rank, x, y)\n",
    "    \n",
    "    return result\n",
    "\n",
    "# Example usage\n",
    "graph = [\n",
    "    [0, 1, 10],\n",
    "    [0, 2, 6],\n",
    "    [0, 3, 5],\n",
    "    [1, 3, 15],\n",
    "    [2, 3, 4]\n",
    "]\n",
    "\n",
    "num_vertices = 4\n",
    "mst = kruskal(graph, num_vertices)\n",
    "print(\"Edges in MST:\", mst)\n"
   ]
  },
  {
   "cell_type": "markdown",
   "metadata": {},
   "source": [
    "It is best for sparse graphs where the number of edges is less than the vertices."
   ]
  },
  {
   "cell_type": "markdown",
   "metadata": {},
   "source": [
    "Prim's algorithm:\n",
    "- It repeatedly checks for the minimum edge weight and connects one vertex to another vertex."
   ]
  },
  {
   "cell_type": "code",
   "execution_count": 14,
   "metadata": {},
   "outputs": [
    {
     "name": "stdout",
     "output_type": "stream",
     "text": [
      "Parent array: [-1, 0, 1, 0, 1]\n"
     ]
    }
   ],
   "source": [
    "def prim(graph, num_vertices):\n",
    "    # graph: adjacency matrix representation of the graph\n",
    "    mst_set = [False] * num_vertices\n",
    "    key = [float('inf')] * num_vertices\n",
    "    parent = [-1] * num_vertices\n",
    "    key[0] = 0  # Start from the first vertex\n",
    "\n",
    "    for _ in range(num_vertices):\n",
    "        # Pick the minimum key vertex not yet included in the MST\n",
    "        min_key = float('inf')\n",
    "        u = -1\n",
    "        for v in range(num_vertices):\n",
    "            if key[v] < min_key and not mst_set[v]:\n",
    "                min_key = key[v]\n",
    "                u = v\n",
    "\n",
    "        # Add the picked vertex to the MST set\n",
    "        mst_set[u] = True\n",
    "\n",
    "        # Update the key values of adjacent vertices\n",
    "        for v in range(num_vertices):\n",
    "            if graph[u][v] and not mst_set[v] and graph[u][v] < key[v]:\n",
    "                key[v] = graph[u][v]\n",
    "                parent[v] = u\n",
    "\n",
    "    return parent\n",
    "\n",
    "# Example usage\n",
    "graph = [\n",
    "    [0, 2, 0, 6, 0],\n",
    "    [2, 0, 3, 8, 5],\n",
    "    [0, 3, 0, 0, 7],\n",
    "    [6, 8, 0, 0, 9],\n",
    "    [0, 5, 7, 9, 0]\n",
    "]\n",
    "\n",
    "num_vertices = 5\n",
    "mst = prim(graph, num_vertices)\n",
    "print(\"Parent array:\", mst)\n"
   ]
  },
  {
   "cell_type": "markdown",
   "metadata": {},
   "source": [
    "Prim's Algorithm is more efficient for dense graphs, where the number of edges \n",
    "𝐸\n",
    " is close to the number of vertices squared, \n",
    "𝐸\n",
    "≈\n",
    "𝑉\n",
    "2\n",
    "."
   ]
  },
  {
   "cell_type": "markdown",
   "metadata": {},
   "source": [
    "PART 2: TREES"
   ]
  },
  {
   "cell_type": "markdown",
   "metadata": {},
   "source": [
    "7. FOUNDATIONAL TREE CONCEPTS"
   ]
  },
  {
   "cell_type": "markdown",
   "metadata": {},
   "source": [
    "Parent node: the node which is an immediate predecessor of a node. For example: node {B} is the parent node of {D,E}"
   ]
  },
  {
   "cell_type": "markdown",
   "metadata": {},
   "source": [
    "Child node: the node which is immediate successor of a node. Examples: {D,E} are the child nodes of {B}"
   ]
  },
  {
   "cell_type": "markdown",
   "metadata": {},
   "source": [
    "Root node: This is the topmost node of a tree"
   ]
  },
  {
   "cell_type": "markdown",
   "metadata": {},
   "source": [
    "Leafnode: these are nodes which do not have any child nodes."
   ]
  },
  {
   "cell_type": "markdown",
   "metadata": {},
   "source": [
    "Internal node: a node with at least one child"
   ]
  },
  {
   "cell_type": "markdown",
   "metadata": {},
   "source": [
    "Tree representations"
   ]
  },
  {
   "cell_type": "markdown",
   "metadata": {},
   "source": [
    "Linked lists:"
   ]
  },
  {
   "cell_type": "markdown",
   "metadata": {},
   "source": [
    "In a linked list representation of a tree, each node in the tree is a structure or class that contains pointers to its children."
   ]
  },
  {
   "cell_type": "markdown",
   "metadata": {},
   "source": [
    "- Each node typically has a value and a pointer to its first child and its next sibling."
   ]
  },
  {
   "cell_type": "markdown",
   "metadata": {},
   "source": [
    "- The child pointer links to the first child node, and the sibling pointer links to the next sibling node."
   ]
  },
  {
   "cell_type": "markdown",
   "metadata": {},
   "source": [
    "Arrays:"
   ]
  },
  {
   "cell_type": "markdown",
   "metadata": {},
   "source": [
    "In an array representation of a tree, the tree is stored in a single array."
   ]
  },
  {
   "cell_type": "markdown",
   "metadata": {},
   "source": [
    "Tree traversal techniques:"
   ]
  },
  {
   "cell_type": "markdown",
   "metadata": {},
   "source": [
    "Inorder: This visits the node in order left -> root -> right"
   ]
  },
  {
   "cell_type": "code",
   "execution_count": 16,
   "metadata": {},
   "outputs": [],
   "source": [
    "class TreeNode:\n",
    "    def __init__(self, value=0, left=None, right=None):\n",
    "        self.value = value\n",
    "        self.left = left\n",
    "        self.right = right\n"
   ]
  },
  {
   "cell_type": "code",
   "execution_count": null,
   "metadata": {},
   "outputs": [],
   "source": []
  }
 ],
 "metadata": {
  "kernelspec": {
   "display_name": "Python 3",
   "language": "python",
   "name": "python3"
  },
  "language_info": {
   "codemirror_mode": {
    "name": "ipython",
    "version": 3
   },
   "file_extension": ".py",
   "mimetype": "text/x-python",
   "name": "python",
   "nbconvert_exporter": "python",
   "pygments_lexer": "ipython3",
   "version": "3.13.0"
  }
 },
 "nbformat": 4,
 "nbformat_minor": 2
}
