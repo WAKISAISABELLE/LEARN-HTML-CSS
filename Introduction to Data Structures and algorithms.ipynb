{
 "cells": [
  {
   "cell_type": "markdown",
   "metadata": {},
   "source": [
    "ISABELLE WAKISA B30311 S24B38/019"
   ]
  },
  {
   "cell_type": "markdown",
   "metadata": {},
   "source": [
    "INTRODUCTION TO DATA STRUCTURES AND ALGORITHMS"
   ]
  },
  {
   "cell_type": "markdown",
   "metadata": {},
   "source": [
    "A data structure can be defined as a way data is arranged so it can be saved and retrieved for later use while an algorithm is the step-by-step procedure to perform a specific task. Both play an important in software development because of their systematic way of organizing and manipulating data. The impact of data structures and algorithm is seen as follows:\n",
    "- Improved software performance: There is less consumption of memory and handling larger amounts of data thus meeting the real-world applications\n",
    "- Big data: They are ablw to process large quantities of data as well as carry out analysis.\n",
    "- Web development: This requires the use of data structures and algorthim to manage data like databases.\n",
    "\n"
   ]
  },
  {
   "cell_type": "markdown",
   "metadata": {},
   "source": [
    "2.ABSTRACT DATA TYPES AND DATA STRUCTURES"
   ]
  },
  {
   "cell_type": "markdown",
   "metadata": {},
   "source": [
    " Explain the concept of Abstract Data Types (ADT) and their role in programming. \n"
   ]
  },
  {
   "cell_type": "markdown",
   "metadata": {},
   "source": [
    "Abstract data types define a data structure by its operations rather than its implementations. They are used in situations where custom operations are required.These are some of their roles:\n",
    "\n",
    "- ADTs encapsulate data and operations. The encapsulation hides the code from the user therefore promoting reusability.\n",
    "- ADTs allow programmers to focus on operations rather than the implementation. This simplifies the design and development process.\n",
    "- ADTs help programmers make changes without affecting the rest of the code hence proving to be flexible.\n",
    "- ADTs can be reused across different programs and projects. This promotes efficiency and reduces redundancy.\n",
    "- ADTs allow for the implementation of efficient algorithms and data structures which is essential for developing high-performance software.\n",
    "\n",
    "\n",
    "\n"
   ]
  },
  {
   "cell_type": "markdown",
   "metadata": {},
   "source": [
    "Differentiate between ADT and Data Structures."
   ]
  },
  {
   "cell_type": "markdown",
   "metadata": {},
   "source": [
    "An abstract data type defines the operations and behaviour of a data type without its implementation while a data structure details how data is physically stored and accessed within a computer system."
   ]
  },
  {
   "cell_type": "markdown",
   "metadata": {},
   "source": [
    "Provide examples of ADTs and how they are implemented in a programming language"
   ]
  },
  {
   "cell_type": "markdown",
   "metadata": {},
   "source": [
    "- List ADT:\n",
    "It is referred to as an ADT because of the operations like insert, delete that are carried out. A list can be implemented as a linked list.\n"
   ]
  },
  {
   "cell_type": "code",
   "execution_count": 4,
   "metadata": {},
   "outputs": [
    {
     "name": "stdout",
     "output_type": "stream",
     "text": [
      "{0: (1, 1), 1: (2, 2), 2: (3, -1)}\n"
     ]
    }
   ],
   "source": [
    "linked_list ={\n",
    "    0:(1,1),  #0 is the node and it contains the data(1) and pointer(1), the pointer(1)references to the next node at index 1.\n",
    "    1:(2,2),\n",
    "    2:(3,-1)  \n",
    "}\n",
    "print(linked_list)"
   ]
  },
  {
   "cell_type": "markdown",
   "metadata": {},
   "source": [
    "- Stack ADT: It implements the Last-in-First-out principle. It can be referred to as an ADT because of the push and pop operations"
   ]
  },
  {
   "cell_type": "code",
   "execution_count": 3,
   "metadata": {},
   "outputs": [
    {
     "name": "stdout",
     "output_type": "stream",
     "text": [
      "stack [1, 2, 3]\n",
      "popped element 3\n"
     ]
    }
   ],
   "source": [
    "stack =[]\n",
    "\n",
    "stack.append(1)\n",
    "stack.append(2)\n",
    "stack.append(3)\n",
    "print(\"stack\", stack)\n",
    "if stack:\n",
    "    popped = stack.pop()\n",
    "    print('popped element', popped)"
   ]
  },
  {
   "cell_type": "markdown",
   "metadata": {},
   "source": [
    "3.Types of Data Structures "
   ]
  },
  {
   "cell_type": "markdown",
   "metadata": {},
   "source": [
    "Arrays"
   ]
  },
  {
   "cell_type": "markdown",
   "metadata": {},
   "source": [
    "It is a collection of items of the same variable type.Each element in the array can be accessed with an index."
   ]
  },
  {
   "cell_type": "code",
   "execution_count": 5,
   "metadata": {},
   "outputs": [
    {
     "name": "stdout",
     "output_type": "stream",
     "text": [
      "[1, 2, 3]\n"
     ]
    }
   ],
   "source": [
    "array = [1,2,3]\n",
    "print(array)"
   ]
  },
  {
   "cell_type": "markdown",
   "metadata": {},
   "source": [
    "Linked Lists"
   ]
  },
  {
   "cell_type": "markdown",
   "metadata": {},
   "source": [
    "It is a data structure that contains elements referred to as nodes, and each node has the data and pointer. The pointer is used to reference to the next node."
   ]
  },
  {
   "cell_type": "code",
   "execution_count": 6,
   "metadata": {},
   "outputs": [
    {
     "name": "stdout",
     "output_type": "stream",
     "text": [
      "{0: (1, 1), 1: (2, 2), 2: (3, -1)}\n"
     ]
    }
   ],
   "source": [
    "linked_list ={\n",
    "    0:(1,1),  #0 is the node and it contains the data(1) and pointer(1), the pointer(1)references to the next node at index 1.\n",
    "    1:(2,2),\n",
    "    2:(3,-1)  \n",
    "}\n",
    "print(linked_list)"
   ]
  },
  {
   "cell_type": "markdown",
   "metadata": {},
   "source": [
    "Stacks"
   ]
  },
  {
   "cell_type": "markdown",
   "metadata": {},
   "source": [
    "It follows the principle of last-in-first-out. Basically meaning the last element added to the stack is the first to be removed."
   ]
  },
  {
   "cell_type": "code",
   "execution_count": 8,
   "metadata": {},
   "outputs": [
    {
     "name": "stdout",
     "output_type": "stream",
     "text": [
      "stack [1, 'mango', 3.7]\n"
     ]
    }
   ],
   "source": [
    "stack =[]\n",
    "\n",
    "stack.append(1)\n",
    "stack.append(\"mango\")\n",
    "stack.append(3.7)\n",
    "print(\"stack\", stack)"
   ]
  },
  {
   "cell_type": "markdown",
   "metadata": {},
   "source": [
    "Queues"
   ]
  },
  {
   "cell_type": "markdown",
   "metadata": {},
   "source": [
    "- It follows the first-in-first-out principle. Simply meaning the first element added to the queue is the firs to be removed.\n"
   ]
  },
  {
   "cell_type": "code",
   "execution_count": 10,
   "metadata": {},
   "outputs": [
    {
     "name": "stdout",
     "output_type": "stream",
     "text": [
      "queue: deque(['apples', 'bananas', 3])\n"
     ]
    }
   ],
   "source": [
    "from collections import deque\n",
    "\n",
    "queue = deque()\n",
    "\n",
    "queue.append(\"apples\")\n",
    "queue.append(\"bananas\")\n",
    "queue.append(3)\n",
    "print(\"queue:\", queue)\n"
   ]
  },
  {
   "cell_type": "markdown",
   "metadata": {},
   "source": [
    "In this case, deque allows elements to be removed and added from either end of the queue"
   ]
  },
  {
   "cell_type": "markdown",
   "metadata": {},
   "source": [
    "Recursion"
   ]
  },
  {
   "cell_type": "markdown",
   "metadata": {},
   "source": [
    "It is a technique used to solve problems by having a function call itself "
   ]
  },
  {
   "cell_type": "code",
   "execution_count": 17,
   "metadata": {},
   "outputs": [
    {
     "name": "stdout",
     "output_type": "stream",
     "text": [
      "5040\n"
     ]
    }
   ],
   "source": [
    "def factorial(N):\n",
    "    if N == 0 or N==1:\n",
    "        return 1\n",
    "    else:\n",
    "        return N * factorial(N-1)\n",
    "print(factorial(7))"
   ]
  },
  {
   "cell_type": "markdown",
   "metadata": {},
   "source": [
    "Trees"
   ]
  },
  {
   "cell_type": "markdown",
   "metadata": {},
   "source": [
    "The data in a tree structure is not stored in a sequentially, they are instead arranged on multiple levels like a heirachy."
   ]
  },
  {
   "cell_type": "code",
   "execution_count": 13,
   "metadata": {},
   "outputs": [
    {
     "name": "stdout",
     "output_type": "stream",
     "text": [
      "{'A': ['B', 'C'], 'B': ['D', 'E'], 'C': ['F'], 'D': []}\n"
     ]
    }
   ],
   "source": [
    "tree ={\n",
    "    'A':['B', 'C'],\n",
    "    'B':['D', 'E'],\n",
    "    'C':['F'],\n",
    "    'D':[]\n",
    "\n",
    "}\n",
    "print(tree)"
   ]
  },
  {
   "cell_type": "markdown",
   "metadata": {},
   "source": [
    "Graphs"
   ]
  },
  {
   "cell_type": "markdown",
   "metadata": {},
   "source": [
    "It is a data structure that consists of nodes and edges that connects pairs of nodes. It can be represented as a dictionary."
   ]
  },
  {
   "cell_type": "code",
   "execution_count": 14,
   "metadata": {},
   "outputs": [
    {
     "name": "stdout",
     "output_type": "stream",
     "text": [
      "{'A': ['B', 'C'], 'B': ['A', 'D']}\n"
     ]
    }
   ],
   "source": [
    "graph ={\n",
    "    'A':['B','C'],\n",
    "    'B':['A','D']\n",
    "}\n",
    "print(graph)"
   ]
  },
  {
   "cell_type": "markdown",
   "metadata": {},
   "source": [
    "Each key(node) will list its neighbouring nodes"
   ]
  },
  {
   "cell_type": "markdown",
   "metadata": {},
   "source": [
    "4.Operations on Data Structures "
   ]
  },
  {
   "cell_type": "markdown",
   "metadata": {},
   "source": [
    "Traversing simply means visiting each element in a structure. This can be demonstrated in arrays and lists where traversing can be done using loops eg for loops"
   ]
  },
  {
   "cell_type": "code",
   "execution_count": 15,
   "metadata": {},
   "outputs": [
    {
     "name": "stdout",
     "output_type": "stream",
     "text": [
      "1\n",
      "2\n",
      "3\n",
      "4\n"
     ]
    }
   ],
   "source": [
    "array =[1,2,3,4]\n",
    "for i in array:\n",
    "    print(i)"
   ]
  },
  {
   "cell_type": "markdown",
   "metadata": {},
   "source": [
    "Searching means finding the specific element in a data structure. It is mainly used to find out whether the specific element exists."
   ]
  },
  {
   "cell_type": "code",
   "execution_count": 16,
   "metadata": {},
   "outputs": [
    {
     "name": "stdout",
     "output_type": "stream",
     "text": [
      "True\n"
     ]
    }
   ],
   "source": [
    "array = [1,2,3,4]\n",
    "print(1 in array)"
   ]
  },
  {
   "cell_type": "markdown",
   "metadata": {},
   "source": [
    "Insertion is the process of adding an element in a data structure."
   ]
  },
  {
   "cell_type": "markdown",
   "metadata": {},
   "source": [
    "Deletion is the process of removing the elements from a data structure. It can depend on the data structure because when it comes to linked lists, the pointer will have to be adjusted."
   ]
  },
  {
   "cell_type": "markdown",
   "metadata": {},
   "source": [
    "Updating is the process of changing the value of an exisiting element in a data structure without removing it. This enables the maintainance of data accuracy."
   ]
  },
  {
   "cell_type": "markdown",
   "metadata": {},
   "source": [
    "Sorting is the process of organizing elements in a data structure according to a particular order."
   ]
  },
  {
   "cell_type": "markdown",
   "metadata": {},
   "source": [
    "Merging refers to the process of combining two or more data structures into a single and sorted one. It is used in sorting algorithms"
   ]
  },
  {
   "cell_type": "markdown",
   "metadata": {},
   "source": [
    "5. Algorithms"
   ]
  },
  {
   "cell_type": "markdown",
   "metadata": {},
   "source": [
    "o Define Algorithm and its role in programming."
   ]
  },
  {
   "cell_type": "markdown",
   "metadata": {},
   "source": [
    "An algorithm is the step by step procedure to fulfill a certain task. It simplfies complex problems by breaking them down into simpler tasks"
   ]
  },
  {
   "cell_type": "markdown",
   "metadata": {},
   "source": [
    "Write pseudocode for the following common algorithms:"
   ]
  },
  {
   "cell_type": "markdown",
   "metadata": {},
   "source": [
    "▪ Summation of numbers in an array"
   ]
  },
  {
   "cell_type": "markdown",
   "metadata": {},
   "source": [
    "- start\n",
    "- set sum to 0.\n",
    "- for each number in array\n",
    "   - add element to sum\n",
    "- end for \n",
    "- print sum \n",
    "- end"
   ]
  },
  {
   "cell_type": "markdown",
   "metadata": {},
   "source": [
    "▪ Matrix multiplication algorithm "
   ]
  },
  {
   "cell_type": "markdown",
   "metadata": {},
   "source": [
    "- start \n",
    "- for each row in the matrix 1\n",
    "    - for each column in matrix 2\n",
    "       - set sum to 0\n",
    "       - for each item in row of matrix 1 and the corresponding item in column of matrix 2\n",
    "           - sum = sum + (matrix[row][item] * matrix2[item][column])\n",
    "       - end for\n",
    "       - sum \n",
    "    - end for   \n",
    "- end for \n",
    "- end"
   ]
  },
  {
   "cell_type": "markdown",
   "metadata": {},
   "source": [
    "Explain different types of algorithms with short notes on:"
   ]
  },
  {
   "cell_type": "markdown",
   "metadata": {},
   "source": [
    "▪ Brute Force Algorithm. These algorithms try out every single possiblity to find a solution. They are versatile and have real-world applications like password cracking, this is essential in cybersecurity testing to find weak passwords"
   ]
  },
  {
   "cell_type": "markdown",
   "metadata": {},
   "source": [
    "▪ Recursive Algorithm. These are algorithmsbthat solve problems by breaking them down into simpler subproblems. "
   ]
  },
  {
   "cell_type": "markdown",
   "metadata": {},
   "source": [
    "\n",
    "▪ Divide and Conquer Algorithms. These algorithms work by recursively breaking down a problem into smaller subproblems of the same type. For example merge sort divides unsorted lists into sublists, sorts the sublists and the merges them into a sorted list"
   ]
  },
  {
   "cell_type": "markdown",
   "metadata": {},
   "source": [
    "▪ Dynamic Programming Algorithm. These are primarily used for solving optimization problems, aiming to find the best solutions amongst multiple solutions. They store the results of the previously solved subproblems and reuse them when needed."
   ]
  },
  {
   "cell_type": "markdown",
   "metadata": {},
   "source": [
    "▪ Greedy Algorithm. These are used for optimization problemsm focusing on finding the best solution at every local decision. They however dont guarantee the optimal solution for all problems."
   ]
  },
  {
   "cell_type": "markdown",
   "metadata": {},
   "source": [
    "▪ Backtracking Algorithm. These algorithms search for a solution by trying different solutions. This can be demonstrated in sudoko solving where this algorithm tries different numbers in the sudoko grid"
   ]
  },
  {
   "cell_type": "markdown",
   "metadata": {},
   "source": [
    "6. Algorithm Representation"
   ]
  },
  {
   "cell_type": "markdown",
   "metadata": {},
   "source": [
    "o Explain Pseudocode and how it is used to represent algorithms. "
   ]
  },
  {
   "cell_type": "markdown",
   "metadata": {},
   "source": [
    "Pseudocode is a human-readable outline that enables programmers understand and plan on solving a problem. It is used to outline the logic of an algorithm without the specific programming syntax, this therefore enables the programmer to focus on logic and plan the algorithm"
   ]
  },
  {
   "cell_type": "markdown",
   "metadata": {},
   "source": [
    "o Explain the Flowchart representation of algorithms. "
   ]
  },
  {
   "cell_type": "markdown",
   "metadata": {},
   "source": [
    "A flowchart is the visual representation of an algorithm. It uses symbols and arrows to show the flow of the process.\n",
    "- Oval: represents the start or end of the algorithm.\n",
    "- Rectangle: represents the process such as calculations.\n",
    "- Parallelogram: represents an inout or output.\n",
    "- Diamond: represents a decision. This is where the flowchart branches.\n",
    "- Arrow: represents the direction of the flow of the algorithm."
   ]
  },
  {
   "cell_type": "markdown",
   "metadata": {},
   "source": [
    "oProvide an example of a flowchart for computing the factorial of a \n",
    "number. \n"
   ]
  },
  {
   "cell_type": "markdown",
   "metadata": {},
   "source": [
    "7. Guidelines for Flowcharts"
   ]
  },
  {
   "cell_type": "markdown",
   "metadata": {},
   "source": [
    "o Summarize the guidelines for drawing flowcharts, including standard \n",
    "symbols and best practices. "
   ]
  },
  {
   "cell_type": "markdown",
   "metadata": {},
   "source": [
    "- GUIDELINES:\n",
    "- Always start with the start symbol and end with the end symbol.\n",
    "- Label the rectangle clearly with the action being performed.\n",
    "- Ensure the input/output are defined clearly.\n",
    "- Label the decision with the condition being evaluated.\n",
    "- Arrows should point from one step to another.\n",
    "\n",
    "\n",
    "\n",
    "\n",
    "- STANDARD SYMBOLS:\n",
    "- Oval: represents the start or end of the algorithm.\n",
    "- Rectangle: represents the process such as calculations.\n",
    "- Parallelogram: represents an inout or output.\n",
    "- Diamond: represents a decision. This is where the flowchart branches.\n",
    "- Arrow: represents the direction of the flow of the algorithm.\n",
    "\n",
    "\n",
    "- BEST PRACTICES:\n",
    "- Keep the flowchart simple.\n",
    "- Use simple labels for each symbol.\n",
    "- Ensure the flowchart is logical\n",
    "- Use standard flowchart symbols.\n",
    "- Arrangr arrows so that they do not corss each other.\n",
    "- Review the flowchart to ensure accuracy."
   ]
  },
  {
   "cell_type": "markdown",
   "metadata": {},
   "source": [
    "8. Conclusion"
   ]
  },
  {
   "cell_type": "markdown",
   "metadata": {},
   "source": [
    "It is important for becoming an essential programmer. It provides the foundation of solving complex problems and improve problem-solving skills.It helps in organizing data efficiently and the algorithms enable on select the best approach to a problem."
   ]
  }
 ],
 "metadata": {
  "kernelspec": {
   "display_name": "Python 3",
   "language": "python",
   "name": "python3"
  },
  "language_info": {
   "codemirror_mode": {
    "name": "ipython",
    "version": 3
   },
   "file_extension": ".py",
   "mimetype": "text/x-python",
   "name": "python",
   "nbconvert_exporter": "python",
   "pygments_lexer": "ipython3",
   "version": "3.13.0"
  }
 },
 "nbformat": 4,
 "nbformat_minor": 2
}
