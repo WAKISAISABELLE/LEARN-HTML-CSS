{
 "cells": [
  {
   "cell_type": "markdown",
   "metadata": {},
   "source": [
    "ISABELLE WAKISA B30311 S24B38/019"
   ]
  },
  {
   "cell_type": "markdown",
   "metadata": {},
   "source": [
    "1.Understanding Pseudocode and Flowcharts"
   ]
  },
  {
   "cell_type": "markdown",
   "metadata": {},
   "source": [
    "a.Define Pseudocode and Flow charts"
   ]
  },
  {
   "cell_type": "markdown",
   "metadata": {},
   "source": [
    " Pseudocode is the step-by-step description of an algorithm. It is written in plain English for easier understanding. A flowchart is a visual represenation of flow of an algorithm. It usesvarious shapes to show the flow of the process"
   ]
  },
  {
   "cell_type": "markdown",
   "metadata": {},
   "source": [
    "b.Explain how they help in algorithm design"
   ]
  },
  {
   "cell_type": "markdown",
   "metadata": {},
   "source": [
    "Pseudocode enables one to logically outline the steps of an algorithm in plain human language and flow charts provide visual representation of the steps and decisions in a process,therefore simplifing complex issues. They therefore complement each other with both a textual representation as well as visual represenation."
   ]
  },
  {
   "cell_type": "markdown",
   "metadata": {},
   "source": [
    "c.Provide an example of a simple algorithm using both pseudocode and a flowchart. \n"
   ]
  },
  {
   "cell_type": "markdown",
   "metadata": {},
   "source": [
    "- Start \n",
    "- input num1\n",
    "- input num2\n",
    "- if num1 > num2 then \n",
    "    - print \"num1 is bigger.\"\n",
    "- else\n",
    "    - print \"num2 is bigger\"\n",
    "- end "
   ]
  },
  {
   "cell_type": "markdown",
   "metadata": {},
   "source": [
    "2. Finding the Largest of Three Numbers"
   ]
  },
  {
   "cell_type": "markdown",
   "metadata": {},
   "source": [
    "a.Write pseudocode for a program that accepts three numbers and prints the largest number"
   ]
  },
  {
   "cell_type": "markdown",
   "metadata": {},
   "source": [
    "- Start\n",
    "- Input numberone\n",
    "- Input numbertwo\n",
    "- Input numberthree\n",
    "- If numberone >= numbertwo and numberone >= numberthree\n",
    "    - max = numberone\n",
    "- Elif numbertwo >= numberone and numbertwo >= numberthree\n",
    "   - max = numbertwo\n",
    "- Else\n",
    "   - max = numberthree\n",
    "- Print \"The largest number is,\" max\n",
    "- End"
   ]
  },
  {
   "cell_type": "markdown",
   "metadata": {},
   "source": [
    "3. Printing Even Numbers from 1 to 50."
   ]
  },
  {
   "cell_type": "markdown",
   "metadata": {},
   "source": [
    "- Start\n",
    "- Set number to 1\n",
    "- While number <=50\n",
    "-   if number % 2 == 0\n",
    "      - print number \n",
    "      - increment number by 1\n",
    "- End "
   ]
  },
  {
   "cell_type": "markdown",
   "metadata": {},
   "source": [
    "4. Voting Eligibility Checker"
   ]
  },
  {
   "cell_type": "markdown",
   "metadata": {},
   "source": [
    "a. Write pseudocode for a program that asks a user for their age and prints \"Eligible to vote\" if the age is 18 or above; otherwise, it prints \"Not eligible to vote\". "
   ]
  },
  {
   "cell_type": "markdown",
   "metadata": {},
   "source": [
    "- Start\n",
    "- Input age \n",
    "- If age >= 18 then\n",
    "    - print \"Eligible to vote\"\n",
    "- Else \n",
    "    - print \"Not eligible to vote\""
   ]
  },
  {
   "cell_type": "markdown",
   "metadata": {},
   "source": [
    "5.Greatest Common Divisor (GCD) Calculation "
   ]
  },
  {
   "cell_type": "markdown",
   "metadata": {},
   "source": [
    "a.Write pseudocode for a function that takes two numbers as input and returns their Greatest Common Divisor"
   ]
  },
  {
   "cell_type": "markdown",
   "metadata": {},
   "source": [
    "- Start\n",
    "- Define function GCD(a, b)\n",
    "   - While b ≠ 0 do\n",
    "    - temporary = b\n",
    "    - b = a mod b\n",
    "    - a = temporary\n",
    "- Return a\n",
    "- End function \n",
    "\n",
    "- Input a\n",
    "- Input b\n",
    "- Call GCD(a, b)\n",
    "- Print GCD(a, b)\n",
    "- End\n"
   ]
  },
  {
   "cell_type": "markdown",
   "metadata": {},
   "source": [
    "6.Symbols Used in Flowcharts"
   ]
  },
  {
   "cell_type": "markdown",
   "metadata": {},
   "source": [
    "a.Explain the standard symbols used in flowcharts (e.g., start/end, process, decision, input/output). \n"
   ]
  },
  {
   "cell_type": "markdown",
   "metadata": {},
   "source": [
    "Oval: This represents the beginning and end of the flowchart. Therefore indicating the start and finish of the process.\n",
    "\n",
    "Rectangle: This represents a step in the process, it is where the action is performed.\n",
    "\n",
    "Diamond: This represents a decision in the process. At thia point the flow will split into different routes based on a given condition.\n",
    "\n",
    "Parallelogram: This represents the input and output. It allows a user to enter input and then the program outputs information.\n",
    "\n",
    "Arrows: these connect the symbols indicating the flow of the program.\n"
   ]
  },
  {
   "cell_type": "markdown",
   "metadata": {},
   "source": [
    "b.Provide a pseudocode example and draw a small flowchart using these symbols."
   ]
  },
  {
   "cell_type": "markdown",
   "metadata": {},
   "source": [
    "- Start\n",
    "- Input number\n",
    "   - If number % 2 == 0 then\n",
    "      - Print \"The number is even\"\n",
    "   - Else\n",
    "      - Print \"The number is odd\"\n",
    "- End\n"
   ]
  },
  {
   "cell_type": "markdown",
   "metadata": {},
   "source": [
    "7. Checking If a Number is Positive, Negative, or Zero"
   ]
  },
  {
   "cell_type": "markdown",
   "metadata": {},
   "source": [
    "Write pseudocode for an algorithm that determines whether a given number is positive, mnegative or zero."
   ]
  },
  {
   "cell_type": "markdown",
   "metadata": {},
   "source": [
    "- Start \n",
    "- Input number \n",
    "   - If number > 0 then\n",
    "      - print \"The number is positive\"\n",
    "   - Elif number < 0 then\n",
    "      - print \"The number is negative\"\n",
    "   - Else \n",
    "       - return zero\n",
    "- End\n",
    "   \n",
    "  \n"
   ]
  },
  {
   "cell_type": "markdown",
   "metadata": {},
   "source": [
    "8. Summing All Numbers from 1 to N "
   ]
  },
  {
   "cell_type": "markdown",
   "metadata": {},
   "source": [
    "Write pseudocode for a program that calculates the sum of all numbers from 1 to N, where N is entered by the user."
   ]
  },
  {
   "cell_type": "markdown",
   "metadata": {},
   "source": [
    "- start\n",
    "- input number N\n",
    "- Read N\n",
    "- Set sum to 0\n",
    "- Set i to 1\n",
    "  - While i < N\n",
    "     - Set sum to sum + i\n",
    "     - set i to i + 1\n",
    "  - End for \n",
    "  - Return sum \n",
    "- End\n",
    "\n"
   ]
  },
  {
   "cell_type": "markdown",
   "metadata": {},
   "source": [
    "9. ATM Transaction Process "
   ]
  },
  {
   "cell_type": "markdown",
   "metadata": {},
   "source": [
    "Write pseudocode for an ATM transaction that follows these steps: \n",
    "0. User enters a PIN. \n",
    "1. If the PIN is correct, the user can withdraw money. \n",
    "2. If the PIN is incorrect, the user gets two more attempts before the account is \n",
    "locked. "
   ]
  },
  {
   "cell_type": "markdown",
   "metadata": {},
   "source": [
    "- Start\n",
    "- Set correctPin to the actualPin\n",
    "- Set attempts to 0\n",
    "- Set maximum attempts to 3\n",
    "   - input userPin\n",
    "   - if userPin == correctPin then \n",
    "     - allow user to withdraw money\n",
    "     - return \"Successful\"\n",
    "   - Else\n",
    "     - increment attempts by 1\n",
    "        - Display \"incorrect, please try again\"\n",
    "          - if attempts = maximum attempts then \n",
    "             - Display \"Your account is locked\"\n",
    "- end "
   ]
  },
  {
   "cell_type": "markdown",
   "metadata": {},
   "source": [
    "10. Factorial Calculation (10 Marks) \n",
    "• Write pseudocode for calculating the factorial of a number entered by the user."
   ]
  },
  {
   "cell_type": "markdown",
   "metadata": {},
   "source": [
    "- start \n",
    "- input: Enter number by user\n",
    "- read input \n",
    "- set factorial to 1 then \n",
    "   - for i from 1 to input do\n",
    "       - factorial = factorial times i\n",
    "       - display \n",
    "- end"
   ]
  }
 ],
 "metadata": {
  "kernelspec": {
   "display_name": "Python 3",
   "language": "python",
   "name": "python3"
  },
  "language_info": {
   "codemirror_mode": {
    "name": "ipython",
    "version": 3
   },
   "file_extension": ".py",
   "mimetype": "text/x-python",
   "name": "python",
   "nbconvert_exporter": "python",
   "pygments_lexer": "ipython3",
   "version": "3.13.0"
  }
 },
 "nbformat": 4,
 "nbformat_minor": 2
}
